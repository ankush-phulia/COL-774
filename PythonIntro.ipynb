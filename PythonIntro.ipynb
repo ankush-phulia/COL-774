{
 "cells": [
  {
   "cell_type": "markdown",
   "metadata": {
    "nbpresent": {
     "id": "a43c5015-2453-4b11-a548-0577b2eaf520"
    }
   },
   "source": [
    "# COL774 Python Tutorial"
   ]
  },
  {
   "cell_type": "markdown",
   "metadata": {
    "nbpresent": {
     "id": "f06c50b0-06b7-4be5-9b0e-096c5f59c18d"
    }
   },
   "source": [
    "Adapted by [Volodymyr Kuleshov](http://web.stanford.edu/~kuleshov/) and [Isaac Caswell](https://symsys.stanford.edu/viewing/symsysaffiliate/21335) from the `CS231n` Python tutorial by Justin Johnson (http://cs231n.github.io/python-numpy-tutorial/)."
   ]
  },
  {
   "cell_type": "markdown",
   "metadata": {
    "nbpresent": {
     "id": "1672d079-4a11-4e00-95a1-125b86ecc460"
    }
   },
   "source": [
    "## Introduction"
   ]
  },
  {
   "cell_type": "markdown",
   "metadata": {
    "nbpresent": {
     "id": "65ba2fc5-9828-4f8b-ba63-4119a5902e2b"
    }
   },
   "source": [
    "In this tutorial, we will cover:\n",
    "\n",
    "* Basic Python: Basic data types (Containers, Lists, Dictionaries, Sets, Tuples), Functions, Classes\n",
    "* Numpy: Arrays, Array indexing, Datatypes, Array math, Broadcasting\n",
    "* Matplotlib: Plotting, Subplots"
   ]
  },
  {
   "cell_type": "markdown",
   "metadata": {
    "nbpresent": {
     "id": "47ec3bed-a8ed-4da1-bce7-d1c661f8a2aa"
    }
   },
   "source": [
    "## Basics of Python"
   ]
  },
  {
   "cell_type": "markdown",
   "metadata": {
    "nbpresent": {
     "id": "daafe990-9806-4203-b242-6c9874af29ad"
    }
   },
   "source": [
    "Python is a high-level, dynamically typed multiparadigm programming language. Python code is often said to be almost like pseudocode, since it allows you to express very powerful ideas in very few lines of code while being very readable. As an example, here is an implementation of the classic quicksort algorithm in Python:"
   ]
  },
  {
   "cell_type": "code",
   "execution_count": null,
   "metadata": {
    "collapsed": false,
    "nbpresent": {
     "id": "eed1f152-c1b1-49b1-b05a-9aa578918420"
    }
   },
   "outputs": [],
   "source": [
    "def quicksort(arr):\n",
    "    if len(arr) <= 1:\n",
    "        return arr\n",
    "    pivot = arr[len(arr) // 2]\n",
    "    left = [x for x in arr if x < pivot]\n",
    "    middle = [x for x in arr if x == pivot]\n",
    "    right = [x for x in arr if x > pivot]\n",
    "    return quicksort(left) + middle + quicksort(right)\n",
    "\n",
    "print(quicksort([3,6,8,10,1,2,1]))"
   ]
  },
  {
   "cell_type": "markdown",
   "metadata": {
    "nbpresent": {
     "id": "23b83a35-06a4-428d-9cab-0f830cd534e5"
    }
   },
   "source": [
    "### Basic data types"
   ]
  },
  {
   "cell_type": "markdown",
   "metadata": {
    "nbpresent": {
     "id": "ab7a8e34-901f-4aca-a7fc-bf1e518038e4"
    }
   },
   "source": [
    "#### Numbers"
   ]
  },
  {
   "cell_type": "markdown",
   "metadata": {
    "nbpresent": {
     "id": "c9f9cc0d-25b9-4023-93a3-6c09c040f4ad"
    }
   },
   "source": [
    "Integers and floats work as you would expect from other languages:"
   ]
  },
  {
   "cell_type": "code",
   "execution_count": null,
   "metadata": {
    "collapsed": false,
    "nbpresent": {
     "id": "45440ef4-f2a9-44e9-84e7-d7626743ce4c"
    }
   },
   "outputs": [],
   "source": [
    "x = 3\n",
    "print(x, type(x))"
   ]
  },
  {
   "cell_type": "code",
   "execution_count": null,
   "metadata": {
    "collapsed": false,
    "nbpresent": {
     "id": "2be9960c-61f9-4abc-9331-7e2038b1bdb9"
    }
   },
   "outputs": [],
   "source": [
    "print(x + 1)  # Addition;\n",
    "print(x - 1)  # Subtraction;\n",
    "print(x * 2)  # Multiplication;\n",
    "print(x ** 2) # Exponentiation;"
   ]
  },
  {
   "cell_type": "code",
   "execution_count": null,
   "metadata": {
    "collapsed": false,
    "nbpresent": {
     "id": "0771cf35-a454-4520-98d4-7dd19d5b22f4"
    }
   },
   "outputs": [],
   "source": [
    "x += 1\n",
    "print(x)  # Prints \"4\"\n",
    "x *= 2\n",
    "print(x)  # Prints \"8\""
   ]
  },
  {
   "cell_type": "code",
   "execution_count": null,
   "metadata": {
    "collapsed": false,
    "nbpresent": {
     "id": "d43ab037-6696-44f3-91c3-c1ca47d73331"
    }
   },
   "outputs": [],
   "source": [
    "y = 2.5\n",
    "print(type(y)) # Prints \"<type 'float'>\"\n",
    "print(y, y + 1, y * 2, y ** 2) # Prints \"2.5 3.5 5.0 6.25\""
   ]
  },
  {
   "cell_type": "markdown",
   "metadata": {
    "nbpresent": {
     "id": "ceeeb768-508c-4741-b945-966ea5fd24ec"
    }
   },
   "source": [
    "Note that unlike many languages, Python does not have unary increment (x++) or decrement (x--) operators.\n",
    "\n",
    "Python also has built-in types for long integers and complex numbers; you can find all of the details in the [documentation](https://docs.python.org/2/library/stdtypes.html#numeric-types-int-float-long-complex)."
   ]
  },
  {
   "cell_type": "markdown",
   "metadata": {
    "nbpresent": {
     "id": "f910a41d-f418-4067-b8b5-fadd4d2152a8"
    }
   },
   "source": [
    "#### Booleans"
   ]
  },
  {
   "cell_type": "markdown",
   "metadata": {
    "nbpresent": {
     "id": "c0e5d0b9-462f-4c04-8a85-47598780f61a"
    }
   },
   "source": [
    "Python implements all of the usual operators for Boolean logic, but uses English words rather than symbols (`&&`, `||`, etc.):"
   ]
  },
  {
   "cell_type": "code",
   "execution_count": null,
   "metadata": {
    "collapsed": false,
    "nbpresent": {
     "id": "10a6776d-5e9a-4ca0-a7e9-784b69b9c78e"
    }
   },
   "outputs": [],
   "source": [
    "t, f = True, False\n",
    "print(type(t)) # Prints \"<type 'bool'>\""
   ]
  },
  {
   "cell_type": "markdown",
   "metadata": {
    "nbpresent": {
     "id": "a559d4da-55f9-43fc-8e34-c70558a72b93"
    }
   },
   "source": [
    "Now we let's look at the operations:"
   ]
  },
  {
   "cell_type": "code",
   "execution_count": null,
   "metadata": {
    "collapsed": false,
    "nbpresent": {
     "id": "0873de56-3886-43cc-9e88-f5d096ff1612"
    }
   },
   "outputs": [],
   "source": [
    "print(t and f) # Logical AND;\n",
    "print(t or f)  # Logical OR;\n",
    "print(not t)   # Logical NOT;\n",
    "print(t != f)  # Logical XOR;"
   ]
  },
  {
   "cell_type": "markdown",
   "metadata": {
    "nbpresent": {
     "id": "b0236eae-c70d-4367-9594-856fa35117f5"
    }
   },
   "source": [
    "#### Strings"
   ]
  },
  {
   "cell_type": "code",
   "execution_count": null,
   "metadata": {
    "collapsed": false,
    "nbpresent": {
     "id": "f7383089-a868-4739-aabc-55ec9a6ae922"
    }
   },
   "outputs": [],
   "source": [
    "hello = 'hello'   # String literals can use single quotes\n",
    "world = \"world\"   # or double quotes; it does not matter.\n",
    "print(hello, len(hello))"
   ]
  },
  {
   "cell_type": "code",
   "execution_count": null,
   "metadata": {
    "collapsed": false,
    "nbpresent": {
     "id": "113f5ce4-04cc-4a2f-abe2-d1c8be0df395"
    }
   },
   "outputs": [],
   "source": [
    "hw = hello + ' ' + world  # String concatenation\n",
    "print(hw)  # prints \"hello world\""
   ]
  },
  {
   "cell_type": "code",
   "execution_count": null,
   "metadata": {
    "collapsed": false,
    "nbpresent": {
     "id": "d09c8a61-d339-438b-be7e-9257a2bacb7b"
    }
   },
   "outputs": [],
   "source": [
    "hw12 = '%s %s %d' % (hello, world, 12)  # sprintf style string formatting\n",
    "print(hw12)  # prints \"hello world 12\""
   ]
  },
  {
   "cell_type": "markdown",
   "metadata": {
    "nbpresent": {
     "id": "ad656435-f212-477f-ae6e-7f2697bba756"
    }
   },
   "source": [
    "String objects have a bunch of useful methods; for example:"
   ]
  },
  {
   "cell_type": "code",
   "execution_count": null,
   "metadata": {
    "collapsed": false,
    "nbpresent": {
     "id": "3f7dba03-9596-4d06-a954-7e82dd6f5777"
    }
   },
   "outputs": [],
   "source": [
    "s = \"hello\"\n",
    "print(s.capitalize())  # Capitalize a string; prints \"Hello\"\n",
    "print(s.upper())       # Convert a string to uppercase; prints \"HELLO\"\n",
    "print(s.rjust(7))      # Right-justify a string, padding with spaces; prints \"  hello\"\n",
    "print(s.center(7))     # Center a string, padding with spaces; prints \" hello \"\n",
    "print(s.replace('l', '(ell)'))  # Replace all instances of one substring with another;\n",
    "                               # prints \"he(ell)(ell)o\"\n",
    "print('  world '.strip())  # Strip leading and trailing whitespace; prints \"world\""
   ]
  },
  {
   "cell_type": "markdown",
   "metadata": {
    "nbpresent": {
     "id": "a5e97d7d-7d14-478f-a016-bb6dbd4188fb"
    }
   },
   "source": [
    "You can find a list of all string methods in the [documentation](https://docs.python.org/2/library/stdtypes.html#string-methods)."
   ]
  },
  {
   "cell_type": "markdown",
   "metadata": {
    "nbpresent": {
     "id": "55059003-6b57-4d3e-bde9-2770b6344fa5"
    }
   },
   "source": [
    "### Containers"
   ]
  },
  {
   "cell_type": "markdown",
   "metadata": {
    "nbpresent": {
     "id": "9199c4a2-0b8d-4e2e-9b46-7a5a4533dd18"
    }
   },
   "source": [
    "Python includes several built-in container types: lists, dictionaries, sets, and tuples."
   ]
  },
  {
   "cell_type": "markdown",
   "metadata": {
    "nbpresent": {
     "id": "56d2aec7-2e29-4f38-959f-c2fabceb0e5c"
    }
   },
   "source": [
    "#### Lists"
   ]
  },
  {
   "cell_type": "markdown",
   "metadata": {
    "nbpresent": {
     "id": "8e195f3a-c729-44bc-9679-1636b4eca251"
    }
   },
   "source": [
    "A list is the Python equivalent of an array, but is resizeable and can contain elements of different types:"
   ]
  },
  {
   "cell_type": "code",
   "execution_count": null,
   "metadata": {
    "collapsed": false,
    "nbpresent": {
     "id": "b33013e6-956d-489c-97b9-63033c413f25"
    }
   },
   "outputs": [],
   "source": [
    "xs = [3, 1, 2]   # Create a list\n",
    "print(xs, xs[2])\n",
    "print(xs[-1])     # Negative indices count from the end of the list; prints \"2\""
   ]
  },
  {
   "cell_type": "code",
   "execution_count": null,
   "metadata": {
    "collapsed": false,
    "nbpresent": {
     "id": "9574abc1-3313-4455-ad97-8813fcd87936"
    }
   },
   "outputs": [],
   "source": [
    "xs[2] = 'foo'    # Lists can contain elements of different types\n",
    "print(xs)"
   ]
  },
  {
   "cell_type": "code",
   "execution_count": null,
   "metadata": {
    "collapsed": false,
    "nbpresent": {
     "id": "6ef9fd88-a3b2-4cf5-811c-28fa4435bb3d"
    }
   },
   "outputs": [],
   "source": [
    "xs.append('bar') # Add a new element to the end of the list\n",
    "print(xs)"
   ]
  },
  {
   "cell_type": "code",
   "execution_count": null,
   "metadata": {
    "collapsed": false,
    "nbpresent": {
     "id": "4ab06548-04fb-4227-88bd-067698ec9a51"
    }
   },
   "outputs": [],
   "source": [
    "x = xs.pop()     # Remove and return the last element of the list\n",
    "print(x, xs)"
   ]
  },
  {
   "cell_type": "markdown",
   "metadata": {
    "nbpresent": {
     "id": "8c1980b7-62d3-4157-9c62-1d1cb92b82f7"
    }
   },
   "source": [
    "As usual, you can find all the gory details about lists in the [documentation](https://docs.python.org/2/tutorial/datastructures.html#more-on-lists)."
   ]
  },
  {
   "cell_type": "markdown",
   "metadata": {
    "nbpresent": {
     "id": "8e7a4c7a-92ce-49bb-aa9e-51d652b893c2"
    }
   },
   "source": [
    "#### Slicing"
   ]
  },
  {
   "cell_type": "markdown",
   "metadata": {
    "nbpresent": {
     "id": "f61caee8-0d8a-4ed0-8f9b-f46fbb42265a"
    }
   },
   "source": [
    "In addition to accessing list elements one at a time, Python provides concise syntax to access sublists; this is known as slicing:"
   ]
  },
  {
   "cell_type": "code",
   "execution_count": null,
   "metadata": {
    "collapsed": false,
    "nbpresent": {
     "id": "00bd1d32-d028-4b89-8ac9-2866523e1208"
    }
   },
   "outputs": [],
   "source": [
    "nums = list(range(5))     # range is a built-in function that creates a list of integers\n",
    "print(nums)         # Prints \"[0, 1, 2, 3, 4]\"\n",
    "print(nums[2:4])    # Get a slice from index 2 to 4 (exclusive); prints \"[2, 3]\"\n",
    "print(nums[2:])     # Get a slice from index 2 to the end; prints \"[2, 3, 4]\"\n",
    "print(nums[:2])     # Get a slice from the start to index 2 (exclusive); prints \"[0, 1]\"\n",
    "print(nums[:])      # Get a slice of the whole list; prints [\"0, 1, 2, 3, 4]\"\n",
    "print(nums[:-1])    # Slice indices can be negative; prints [\"0, 1, 2, 3]\"\n",
    "nums[2:4] = [8, 9]  # Assign a new sublist to a slice\n",
    "print(nums)         # Prints \"[0, 1, 8, 8, 4]\""
   ]
  },
  {
   "cell_type": "markdown",
   "metadata": {
    "nbpresent": {
     "id": "af72e358-1ff4-4c71-822e-c5784e98fa3e"
    }
   },
   "source": [
    "#### Loops"
   ]
  },
  {
   "cell_type": "markdown",
   "metadata": {
    "nbpresent": {
     "id": "0fa33260-c82e-498e-9ed1-4662baa3834b"
    }
   },
   "source": [
    "You can loop over the elements of a list like this:"
   ]
  },
  {
   "cell_type": "code",
   "execution_count": null,
   "metadata": {
    "collapsed": false,
    "nbpresent": {
     "id": "c70a69f4-ce63-416d-ae7c-aff896b19587"
    }
   },
   "outputs": [],
   "source": [
    "animals = ['cat', 'dog', 'monkey']\n",
    "for animal in animals:\n",
    "    print(animal)"
   ]
  },
  {
   "cell_type": "markdown",
   "metadata": {
    "nbpresent": {
     "id": "6f003877-6a93-4078-852c-37d9953eec7b"
    }
   },
   "source": [
    "If you want access to the index of each element within the body of a loop, use the built-in `enumerate` function:"
   ]
  },
  {
   "cell_type": "code",
   "execution_count": null,
   "metadata": {
    "collapsed": false,
    "nbpresent": {
     "id": "d16b514e-03ad-4df5-8e22-14256adabde5"
    }
   },
   "outputs": [],
   "source": [
    "animals = ['cat', 'dog', 'monkey']\n",
    "for idx, animal in enumerate(animals):\n",
    "    print('#%d: %s' % (idx + 1, animal))"
   ]
  },
  {
   "cell_type": "markdown",
   "metadata": {
    "nbpresent": {
     "id": "7e6b4c4a-a204-48e6-9fe6-667ef8029c8e"
    }
   },
   "source": [
    "#### List comprehensions:"
   ]
  },
  {
   "cell_type": "markdown",
   "metadata": {
    "nbpresent": {
     "id": "f9533b0b-090c-43e0-bae3-48522eb38e93"
    }
   },
   "source": [
    "When programming, frequently we want to transform one type of data into another. As a simple example, consider the following code that computes square numbers:"
   ]
  },
  {
   "cell_type": "code",
   "execution_count": null,
   "metadata": {
    "collapsed": false,
    "nbpresent": {
     "id": "db0d6154-9b8c-42a6-83e4-b05ada4b2e45"
    }
   },
   "outputs": [],
   "source": [
    "nums = [0, 1, 2, 3, 4]\n",
    "squares = []\n",
    "for x in nums:\n",
    "    squares.append(x ** 2)\n",
    "print(squares)"
   ]
  },
  {
   "cell_type": "markdown",
   "metadata": {
    "nbpresent": {
     "id": "9ea6875c-9dcc-4974-87f0-deae66223289"
    }
   },
   "source": [
    "You can make this code simpler using a list comprehension:"
   ]
  },
  {
   "cell_type": "code",
   "execution_count": null,
   "metadata": {
    "collapsed": false,
    "nbpresent": {
     "id": "3bf7f2e1-f95b-438c-be7a-36ccf89858ea"
    }
   },
   "outputs": [],
   "source": [
    "nums = [0, 1, 2, 3, 4]\n",
    "squares = [x ** 2 for x in nums]\n",
    "print(squares)"
   ]
  },
  {
   "cell_type": "markdown",
   "metadata": {
    "nbpresent": {
     "id": "d0b35a04-db6b-48ca-b654-3fa17545f577"
    }
   },
   "source": [
    "List comprehensions can also contain conditions:"
   ]
  },
  {
   "cell_type": "code",
   "execution_count": null,
   "metadata": {
    "collapsed": false,
    "nbpresent": {
     "id": "5868e338-f948-451e-b2e5-f60b8ef1d954"
    }
   },
   "outputs": [],
   "source": [
    "nums = [0, 1, 2, 3, 4]\n",
    "even_squares = [x ** 2 for x in nums if x % 2 == 0]\n",
    "print(even_squares)"
   ]
  },
  {
   "cell_type": "markdown",
   "metadata": {
    "nbpresent": {
     "id": "1da2b41e-7dd2-4fff-85cc-c3967c9aed43"
    }
   },
   "source": [
    "#### Dictionaries"
   ]
  },
  {
   "cell_type": "markdown",
   "metadata": {
    "nbpresent": {
     "id": "73101b14-5f38-4c0d-847d-f7c0ba9b3512"
    }
   },
   "source": [
    "A dictionary stores (key, value) pairs, similar to a `Map` in Java or an object in Javascript. You can use it like this:"
   ]
  },
  {
   "cell_type": "code",
   "execution_count": null,
   "metadata": {
    "collapsed": false,
    "nbpresent": {
     "id": "9e817d6b-fa55-4a9f-8517-2d6b5310e070"
    }
   },
   "outputs": [],
   "source": [
    "d = {'cat': 'cute', 'dog': 'furry'}  # Create a new dictionary with some data\n",
    "print(d['cat'])       # Get an entry from a dictionary; prints \"cute\"\n",
    "print('cat' in d)     # Check if a dictionary has a given key; prints \"True\""
   ]
  },
  {
   "cell_type": "code",
   "execution_count": null,
   "metadata": {
    "collapsed": false,
    "nbpresent": {
     "id": "ccfc8c14-5272-49d3-90a3-eb40252e26b8"
    }
   },
   "outputs": [],
   "source": [
    "d['fish'] = 'wet'     # Set an entry in a dictionary\n",
    "print(d['fish'])      # Prints \"wet\"\n",
    "d"
   ]
  },
  {
   "cell_type": "code",
   "execution_count": null,
   "metadata": {
    "collapsed": false,
    "nbpresent": {
     "id": "2b8554c2-272c-4f31-b9fb-24bf7c4f8232"
    }
   },
   "outputs": [],
   "source": [
    "print(d['monkey'])  # KeyError: 'monkey' not a key of d"
   ]
  },
  {
   "cell_type": "code",
   "execution_count": null,
   "metadata": {
    "collapsed": false,
    "nbpresent": {
     "id": "7e700a84-511b-41a9-b17d-b2a554c89a58"
    }
   },
   "outputs": [],
   "source": [
    "print(d.get('monkey', 'N/A'))  # Get an element with a default; prints \"N/A\"\n",
    "print(d.get('fish', 'N/A'))    # Get an element with a default; prints \"wet\""
   ]
  },
  {
   "cell_type": "code",
   "execution_count": null,
   "metadata": {
    "collapsed": false,
    "nbpresent": {
     "id": "526fa87b-ce0b-4ec0-aed3-da8e1c043272"
    }
   },
   "outputs": [],
   "source": [
    "del d['fish']        # Remove an element from a dictionary\n",
    "print(d.get('fish', 'N/A')) # \"fish\" is no longer a key; prints \"N/A\""
   ]
  },
  {
   "cell_type": "markdown",
   "metadata": {
    "nbpresent": {
     "id": "8c3a273d-a629-4011-9ace-874fd349f20a"
    }
   },
   "source": [
    "It is easy to iterate over the keys in a dictionary:"
   ]
  },
  {
   "cell_type": "code",
   "execution_count": null,
   "metadata": {
    "collapsed": false,
    "nbpresent": {
     "id": "1360c0aa-2085-44ce-a439-fe5f56516627"
    }
   },
   "outputs": [],
   "source": [
    "d = {'person': 2, 'cat': 4, 'spider': 8}\n",
    "for animal in d:\n",
    "    legs = d[animal]\n",
    "    print('A {} has {} legs'.format(animal, legs))"
   ]
  },
  {
   "cell_type": "markdown",
   "metadata": {
    "nbpresent": {
     "id": "bbaf7dce-073d-4430-bde9-8992c1b1eb45"
    }
   },
   "source": [
    "If you want access to keys and their corresponding values, use the iteritems method:"
   ]
  },
  {
   "cell_type": "code",
   "execution_count": null,
   "metadata": {
    "collapsed": false,
    "nbpresent": {
     "id": "5e0dc55f-e789-4375-ba80-2bacee8a6b5c"
    }
   },
   "outputs": [],
   "source": [
    "d = {'person': 2, 'cat': 4, 'spider': 8}\n",
    "for animal, legs in d.items():\n",
    "    print('A {} has {} legs'.format(animal, legs))"
   ]
  },
  {
   "cell_type": "markdown",
   "metadata": {
    "nbpresent": {
     "id": "c08cdecc-0ba0-4a7c-8b86-bb25539078a6"
    }
   },
   "source": [
    "Dictionary comprehensions: These are similar to list comprehensions, but allow you to easily construct dictionaries. For example:"
   ]
  },
  {
   "cell_type": "code",
   "execution_count": null,
   "metadata": {
    "collapsed": false,
    "nbpresent": {
     "id": "5463adf8-8008-4045-b6d0-e15f1a3b3fed"
    }
   },
   "outputs": [],
   "source": [
    "nums = [0, 1, 2, 3, 4]\n",
    "even_num_to_square = {x: x ** 2 for x in nums if x % 2 == 0}\n",
    "print(even_num_to_square)"
   ]
  },
  {
   "cell_type": "markdown",
   "metadata": {
    "nbpresent": {
     "id": "f39f2dec-f848-4e41-bdbc-f8845b029280"
    }
   },
   "source": [
    "#### Sets"
   ]
  },
  {
   "cell_type": "markdown",
   "metadata": {
    "nbpresent": {
     "id": "8807b57a-c942-4f7b-bf17-891e48d830b2"
    }
   },
   "source": [
    "A set is an unordered collection of distinct elements. As a simple example, consider the following:"
   ]
  },
  {
   "cell_type": "code",
   "execution_count": null,
   "metadata": {
    "collapsed": false,
    "nbpresent": {
     "id": "bb9feeba-fdbd-448f-ab9f-c3f400e59ee0"
    }
   },
   "outputs": [],
   "source": [
    "animals = {'cat', 'dog'}\n",
    "print('cat' in animals)   # Check if an element is in a set; prints \"True\"\n",
    "print('fish' in animals)  # prints \"False\"\n"
   ]
  },
  {
   "cell_type": "code",
   "execution_count": null,
   "metadata": {
    "collapsed": false,
    "nbpresent": {
     "id": "e8c55c6d-1730-45de-ba58-e05d1ab29abb"
    }
   },
   "outputs": [],
   "source": [
    "animals.add('fish')      # Add an element to a set\n",
    "print('fish' in animals)\n",
    "print(len(animals))      # Number of elements in a set;"
   ]
  },
  {
   "cell_type": "code",
   "execution_count": null,
   "metadata": {
    "collapsed": false,
    "nbpresent": {
     "id": "6128d0ab-7b47-4492-a138-71c7c145a6a0"
    }
   },
   "outputs": [],
   "source": [
    "animals.add('cat')       # Adding an element that is already in the set does nothing\n",
    "print(len(animals))       \n",
    "animals.remove('cat')    # Remove an element from a set\n",
    "print(len(animals))       "
   ]
  },
  {
   "cell_type": "markdown",
   "metadata": {
    "nbpresent": {
     "id": "0852a9c3-0e55-4c0e-9407-2253e35d62dd"
    }
   },
   "source": [
    "_Loops_: Iterating over a set has the same syntax as iterating over a list; however since sets are unordered, you cannot make assumptions about the order in which you visit the elements of the set:"
   ]
  },
  {
   "cell_type": "code",
   "execution_count": null,
   "metadata": {
    "collapsed": false,
    "nbpresent": {
     "id": "1497ce28-68a3-42e2-adbe-f1c94c7fa5df"
    }
   },
   "outputs": [],
   "source": [
    "animals = {'cat', 'dog', 'fish'}\n",
    "for idx, animal in enumerate(animals):\n",
    "    print('{}: {}'.format(idx + 1, animal))\n",
    "# Prints \"#1: fish\", \"#2: dog\", \"#3: cat\""
   ]
  },
  {
   "cell_type": "markdown",
   "metadata": {
    "nbpresent": {
     "id": "e5ebf83e-3c3a-488c-a3e1-cfba9f237f28"
    }
   },
   "source": [
    "Set comprehensions: Like lists and dictionaries, we can easily construct sets using set comprehensions:"
   ]
  },
  {
   "cell_type": "code",
   "execution_count": null,
   "metadata": {
    "collapsed": false,
    "nbpresent": {
     "id": "999a48e8-0101-4db5-9461-b1c8bff016f9"
    }
   },
   "outputs": [],
   "source": [
    "from math import sqrt\n",
    "print({int(sqrt(x)) for x in range(30)})"
   ]
  },
  {
   "cell_type": "markdown",
   "metadata": {
    "nbpresent": {
     "id": "86ea867f-c3eb-4df4-8613-c6445a613929"
    }
   },
   "source": [
    "#### Tuples"
   ]
  },
  {
   "cell_type": "markdown",
   "metadata": {
    "nbpresent": {
     "id": "00c54206-67e8-41d8-81f4-ded95146f7c3"
    }
   },
   "source": [
    "A tuple is an (immutable) ordered list of values. A tuple is in many ways similar to a list; one of the most important differences is that tuples can be used as keys in dictionaries and as elements of sets, while lists cannot. Here is a trivial example:"
   ]
  },
  {
   "cell_type": "code",
   "execution_count": null,
   "metadata": {
    "collapsed": false,
    "nbpresent": {
     "id": "893257e9-9757-494a-bed3-2ee593442102"
    }
   },
   "outputs": [],
   "source": [
    "d = {(x, x + 1): x for x in range(10)}  # Create a dictionary with tuple keys\n",
    "t = (5, 6)       # Create a tuple\n",
    "print(type(t))\n",
    "print(d[t])       \n",
    "print(d[(1, 2)])"
   ]
  },
  {
   "cell_type": "code",
   "execution_count": null,
   "metadata": {
    "collapsed": false,
    "nbpresent": {
     "id": "67d69f5b-9cf1-43e7-9c8e-aae00e26f3bc"
    }
   },
   "outputs": [],
   "source": [
    "t[0] = 1"
   ]
  },
  {
   "cell_type": "markdown",
   "metadata": {
    "nbpresent": {
     "id": "136a68b8-c2a1-4707-b3aa-ea15603b665c"
    }
   },
   "source": [
    "### Functions"
   ]
  },
  {
   "cell_type": "markdown",
   "metadata": {
    "nbpresent": {
     "id": "8b02b6c0-e371-4537-be60-4d728b1e0aab"
    }
   },
   "source": [
    "Python functions are defined using the `def` keyword. For example:"
   ]
  },
  {
   "cell_type": "code",
   "execution_count": null,
   "metadata": {
    "collapsed": false,
    "nbpresent": {
     "id": "0684aea5-fd68-440e-92b9-e8f0f279afa2"
    }
   },
   "outputs": [],
   "source": [
    "def sign(x):\n",
    "    if x > 0:\n",
    "        return 'positive'\n",
    "    elif x < 0:\n",
    "        return 'negative'\n",
    "    else:\n",
    "        return 'zero'\n",
    "\n",
    "for x in [-1, 0, 1]:\n",
    "    print(sign(x))"
   ]
  },
  {
   "cell_type": "markdown",
   "metadata": {
    "nbpresent": {
     "id": "7cb67235-f59f-4c0e-af4c-227b502d701d"
    }
   },
   "source": [
    "We will often define functions to take optional keyword arguments, like this:"
   ]
  },
  {
   "cell_type": "code",
   "execution_count": null,
   "metadata": {
    "collapsed": false,
    "nbpresent": {
     "id": "5da8724e-ffc4-4716-91eb-4f0f76e499c7"
    }
   },
   "outputs": [],
   "source": [
    "def hello(name, loud=False):\n",
    "    if loud:\n",
    "        print('HELLO, %s' % name.upper())\n",
    "    else:\n",
    "        print('Hello, %s!' % name)\n",
    "\n",
    "hello('Bob')\n",
    "hello('Fred', loud=True)"
   ]
  },
  {
   "cell_type": "markdown",
   "metadata": {
    "nbpresent": {
     "id": "86ad40d7-9b77-47d7-ba06-28497cb7a73c"
    }
   },
   "source": [
    "### Classes"
   ]
  },
  {
   "cell_type": "markdown",
   "metadata": {
    "nbpresent": {
     "id": "f5607a79-a38d-4a10-be51-6a54de9293d2"
    }
   },
   "source": [
    "The syntax for defining classes in Python is straightforward:"
   ]
  },
  {
   "cell_type": "code",
   "execution_count": null,
   "metadata": {
    "collapsed": false,
    "nbpresent": {
     "id": "c6a45b1f-3cdc-41cc-b094-e5bd1e166804"
    }
   },
   "outputs": [],
   "source": [
    "class Greeter:\n",
    "\n",
    "    # Constructor\n",
    "    def __init__(self, name):\n",
    "        self.name = name  # Create an instance variable\n",
    "\n",
    "    # Instance method\n",
    "    def greet(self, loud=False):\n",
    "        if loud:\n",
    "            print('HELLO, %s!' % self.name.upper())\n",
    "        else:\n",
    "            print('Hello, %s' % self.name)\n",
    "            \n",
    "    def test():\n",
    "        print('Class level')\n",
    "\n",
    "g = Greeter('Fred')  # Construct an instance of the Greeter class\n",
    "g.greet()            # Call an instance method; prints \"Hello, Fred\"\n",
    "g.greet(loud=True)   # Call an instance method; prints \"HELLO, FRED!\"\n",
    "Greeter.test()"
   ]
  },
  {
   "cell_type": "markdown",
   "metadata": {
    "nbpresent": {
     "id": "30efe3d0-2686-4978-b800-23bdba7ba9ac"
    }
   },
   "source": [
    "## Numpy"
   ]
  },
  {
   "cell_type": "markdown",
   "metadata": {
    "nbpresent": {
     "id": "6a229f0b-753e-42a8-85d8-a0c5e3a8f671"
    }
   },
   "source": [
    "Numpy is the core library for scientific computing in Python. It provides a high-performance multidimensional array object, and tools for working with these arrays. If you are already familiar with MATLAB, you might find this [tutorial](http://wiki.scipy.org/NumPy_for_Matlab_Users) useful to get started with Numpy."
   ]
  },
  {
   "cell_type": "markdown",
   "metadata": {
    "nbpresent": {
     "id": "ba9adb17-dfa7-4d36-9c72-bde8c7f4111e"
    }
   },
   "source": [
    "To use Numpy, we first need to import the `numpy` package:"
   ]
  },
  {
   "cell_type": "code",
   "execution_count": null,
   "metadata": {
    "collapsed": false,
    "nbpresent": {
     "id": "2170e927-4744-4df6-910a-234951413605"
    }
   },
   "outputs": [],
   "source": [
    "import numpy as np"
   ]
  },
  {
   "cell_type": "markdown",
   "metadata": {
    "nbpresent": {
     "id": "22475dcc-8213-474d-a0bd-d1f9b13600d7"
    }
   },
   "source": [
    "### Arrays"
   ]
  },
  {
   "cell_type": "markdown",
   "metadata": {
    "nbpresent": {
     "id": "eb1c7295-406c-4111-8d69-ab3a64994784"
    }
   },
   "source": [
    "A numpy array is a grid of values, all of the same type, and is indexed by a tuple of nonnegative integers. The number of dimensions is the rank of the array; the shape of an array is a tuple of integers giving the size of the array along each dimension."
   ]
  },
  {
   "cell_type": "markdown",
   "metadata": {
    "nbpresent": {
     "id": "831abfaa-7a9c-48fb-a109-cec4434ff02a"
    }
   },
   "source": [
    "We can initialize numpy arrays from nested Python lists, and access elements using square brackets:"
   ]
  },
  {
   "cell_type": "code",
   "execution_count": null,
   "metadata": {
    "collapsed": false,
    "nbpresent": {
     "id": "df979650-aa3e-4ead-bec8-925e982c9f0c"
    }
   },
   "outputs": [],
   "source": [
    "a = np.array([1, 2, 3])  # Create a rank 1 array\n",
    "print(type(a), a.shape, a[0], a[1], a[2])\n",
    "a[0] = 5                 # Change an element of the array\n",
    "print(a)"
   ]
  },
  {
   "cell_type": "code",
   "execution_count": null,
   "metadata": {
    "collapsed": false,
    "nbpresent": {
     "id": "a565b943-313e-4544-8dbd-9f4c2feec3c6"
    }
   },
   "outputs": [],
   "source": [
    "b = np.array([[1,2,3],[4,5,6]])   # Create a rank 2 array\n",
    "print(b)\n",
    "b.shape"
   ]
  },
  {
   "cell_type": "code",
   "execution_count": null,
   "metadata": {
    "collapsed": false,
    "nbpresent": {
     "id": "240216f8-00e0-4571-a826-df8153c87154"
    }
   },
   "outputs": [],
   "source": [
    "print(b.shape)\n",
    "print(b[0, 0], b[0, 1], b[1, 0])"
   ]
  },
  {
   "cell_type": "markdown",
   "metadata": {
    "nbpresent": {
     "id": "4bf045e6-3451-492b-a359-6af10c2c85a6"
    }
   },
   "source": [
    "Numpy also provides many functions to create arrays:"
   ]
  },
  {
   "cell_type": "code",
   "execution_count": null,
   "metadata": {
    "collapsed": false,
    "nbpresent": {
     "id": "110b87c0-5d6d-4264-8af5-c1ca32a9b4a6"
    }
   },
   "outputs": [],
   "source": [
    "a = np.zeros((2,2))  # Create an array of all zeros\n",
    "print(a)"
   ]
  },
  {
   "cell_type": "code",
   "execution_count": null,
   "metadata": {
    "collapsed": false,
    "nbpresent": {
     "id": "d5d8defb-df4a-4975-8891-10ae7211d4cf"
    }
   },
   "outputs": [],
   "source": [
    "b = np.ones((1,2))   # Create an array of all ones\n",
    "print(b)"
   ]
  },
  {
   "cell_type": "code",
   "execution_count": null,
   "metadata": {
    "collapsed": false,
    "nbpresent": {
     "id": "28d7c090-f329-4035-90dd-d7c02159f812"
    }
   },
   "outputs": [],
   "source": [
    "c = np.full((2,2), 7) # Create a constant array\n",
    "print(c)"
   ]
  },
  {
   "cell_type": "code",
   "execution_count": null,
   "metadata": {
    "collapsed": false,
    "nbpresent": {
     "id": "06e183fa-f9f8-4b88-96ac-5959e5fa7bbb"
    }
   },
   "outputs": [],
   "source": [
    "d = np.eye(2)        # Create a 2x2 identity matrix\n",
    "print(d)"
   ]
  },
  {
   "cell_type": "code",
   "execution_count": null,
   "metadata": {
    "collapsed": false,
    "nbpresent": {
     "id": "5042ee04-c06f-4de4-9bf1-6311347e1fd6"
    }
   },
   "outputs": [],
   "source": [
    "e = np.random.random((2,2)) # Create an array filled with random values\n",
    "print(e)"
   ]
  },
  {
   "cell_type": "markdown",
   "metadata": {
    "nbpresent": {
     "id": "99517f21-8cde-4b2f-a78d-a47348bfc7cb"
    }
   },
   "source": [
    "### Array indexing"
   ]
  },
  {
   "cell_type": "markdown",
   "metadata": {
    "nbpresent": {
     "id": "50fb3c7e-12e9-4c84-9392-1754001ab2f1"
    }
   },
   "source": [
    "Numpy offers several ways to index into arrays."
   ]
  },
  {
   "cell_type": "markdown",
   "metadata": {
    "nbpresent": {
     "id": "b5ebc7b3-7991-4626-bf79-ee27fb94d9db"
    }
   },
   "source": [
    "Slicing: Similar to Python lists, numpy arrays can be sliced. Since arrays may be multidimensional, you must specify a slice for each dimension of the array:"
   ]
  },
  {
   "cell_type": "code",
   "execution_count": null,
   "metadata": {
    "collapsed": false,
    "nbpresent": {
     "id": "9dc6556f-4136-4e84-9db5-8ae47ec7fe16"
    }
   },
   "outputs": [],
   "source": [
    "import numpy as np\n",
    "\n",
    "# Create the following rank 2 array with shape (3, 4)\n",
    "# [[ 1  2  3  4]\n",
    "#  [ 5  6  7  8]\n",
    "#  [ 9 10 11 12]]\n",
    "a = np.array([[1,2,3,4], [5,6,7,8], [9,10,11,12]])\n",
    "\n",
    "# Use slicing to pull out the subarray consisting of the first 2 rows\n",
    "# and columns 1 and 2; b is the following array of shape (2, 2):\n",
    "# [[2 3]\n",
    "#  [6 7]]\n",
    "b = a[:2, 1:3]\n",
    "print(b)\n",
    "b.shape"
   ]
  },
  {
   "cell_type": "markdown",
   "metadata": {
    "nbpresent": {
     "id": "f82808fb-c472-4cef-93ac-e60208581fa3"
    }
   },
   "source": [
    "A slice of an array is a view into the same data, so modifying it will modify the original array."
   ]
  },
  {
   "cell_type": "code",
   "execution_count": null,
   "metadata": {
    "collapsed": false,
    "nbpresent": {
     "id": "a46ac47c-6eea-4752-8551-43dabd899d3c"
    }
   },
   "outputs": [],
   "source": [
    "print(a[0, 1])\n",
    "b[0, 0] = 77    # b[0, 0] is the same piece of data as a[0, 1]\n",
    "print(a[0, 1])"
   ]
  },
  {
   "cell_type": "markdown",
   "metadata": {
    "nbpresent": {
     "id": "7da74d40-2b01-4253-8d0a-677f1173ac7b"
    }
   },
   "source": [
    "You can also mix integer indexing with slice indexing. However, doing so will yield an array of lower rank than the original array. Note that this is quite different from the way that MATLAB handles array slicing:"
   ]
  },
  {
   "cell_type": "code",
   "execution_count": null,
   "metadata": {
    "collapsed": false,
    "nbpresent": {
     "id": "b9697184-5575-4503-9231-fdcb5e437b00"
    }
   },
   "outputs": [],
   "source": [
    "# Create the following rank 2 array with shape (3, 4)\n",
    "a = np.array([[1,2,3,4], [5,6,7,8], [9,10,11,12]])\n",
    "print(a)"
   ]
  },
  {
   "cell_type": "markdown",
   "metadata": {
    "nbpresent": {
     "id": "d1b78515-9b6f-427b-b452-e3db7529833b"
    }
   },
   "source": [
    "Two ways of accessing the data in the middle row of the array.\n",
    "Mixing integer indexing with slices yields an array of lower rank,\n",
    "while using only slices yields an array of the same rank as the\n",
    "original array:"
   ]
  },
  {
   "cell_type": "code",
   "execution_count": null,
   "metadata": {
    "collapsed": false,
    "nbpresent": {
     "id": "b7d45069-898c-443c-93f7-5deee5cde26d"
    }
   },
   "outputs": [],
   "source": [
    "row_r1 = a[1, :]    # Rank 1 view of the second row of a  \n",
    "row_r2 = a[1:2, :]  # Rank 2 view of the second row of a\n",
    "row_r3 = a[[1], :]  # Rank 2 view of the second row of a\n",
    "print(row_r1, row_r1.shape)\n",
    "print(row_r2, row_r2.shape)\n",
    "print(row_r3, row_r3.shape)"
   ]
  },
  {
   "cell_type": "code",
   "execution_count": null,
   "metadata": {
    "collapsed": false,
    "nbpresent": {
     "id": "f23f746b-363d-4b94-8903-65375b6ffe9d"
    }
   },
   "outputs": [],
   "source": [
    "# We can make the same distinction when accessing columns of an array:\n",
    "col_r1 = a[:, 1]\n",
    "col_r2 = a[:, 1:2]\n",
    "print(col_r1, col_r1.shape)\n",
    "print()\n",
    "print(col_r2, col_r2.shape)"
   ]
  },
  {
   "cell_type": "markdown",
   "metadata": {
    "nbpresent": {
     "id": "b21e5035-7e16-44ae-8347-7cd5d15860e0"
    }
   },
   "source": [
    "Integer array indexing: When you index into numpy arrays using slicing, the resulting array view will always be a subarray of the original array. In contrast, integer array indexing allows you to construct arbitrary arrays using the data from another array. Here is an example:"
   ]
  },
  {
   "cell_type": "code",
   "execution_count": null,
   "metadata": {
    "collapsed": false,
    "nbpresent": {
     "id": "a1216756-56e0-4fdf-a25f-a3df57be821f"
    }
   },
   "outputs": [],
   "source": [
    "a = np.array([[1,2], [3, 4], [5, 6]])\n",
    "\n",
    "# An example of integer array indexing.\n",
    "# The returned array will have shape (3,) and \n",
    "print(a[[0, 1, 2], [0, 1, 0]])\n",
    "\n",
    "# The above example of integer array indexing is equivalent to this:\n",
    "print(np.array([a[0, 0], a[1, 1], a[2, 0]]))"
   ]
  },
  {
   "cell_type": "code",
   "execution_count": null,
   "metadata": {
    "collapsed": false,
    "nbpresent": {
     "id": "7a13dc45-2dfb-4b5d-9caf-b61a11ca063f"
    }
   },
   "outputs": [],
   "source": [
    "# When using integer array indexing, you can reuse the same\n",
    "# element from the source array:\n",
    "print(a[[0, 0], [1, 1]])\n",
    "\n",
    "# Equivalent to the previous integer array indexing example\n",
    "print(np.array([a[0, 1], a[0, 1]]))"
   ]
  },
  {
   "cell_type": "markdown",
   "metadata": {
    "nbpresent": {
     "id": "fc075082-42a7-41a7-b10c-268bcc3cea4a"
    }
   },
   "source": [
    "One useful trick with integer array indexing is selecting or mutating one element from each row of a matrix:"
   ]
  },
  {
   "cell_type": "code",
   "execution_count": null,
   "metadata": {
    "collapsed": false,
    "nbpresent": {
     "id": "cfc27dea-b5af-4d72-a375-9c0533bdaa0b"
    }
   },
   "outputs": [],
   "source": [
    "# Create a new array from which we will select elements\n",
    "a = np.array([[1,2,3], [4,5,6], [7,8,9], [10, 11, 12]])\n",
    "print(a)"
   ]
  },
  {
   "cell_type": "code",
   "execution_count": null,
   "metadata": {
    "collapsed": false,
    "nbpresent": {
     "id": "ffdcfe15-3551-444d-8577-d11dc4682b29"
    }
   },
   "outputs": [],
   "source": [
    "# Create an array of indices\n",
    "b = np.array([0, 2, 0, 1])\n",
    "\n",
    "# Select one element from each row of a using the indices in b\n",
    "print(a[np.arange(4), b])  # Prints \"[ 1  6  7 11]\""
   ]
  },
  {
   "cell_type": "code",
   "execution_count": null,
   "metadata": {
    "collapsed": false,
    "nbpresent": {
     "id": "e9adf871-237f-441d-b337-6c8a19f70b32"
    }
   },
   "outputs": [],
   "source": [
    "# Mutate one element from each row of a using the indices in b\n",
    "a[np.arange(4), b] += 10\n",
    "print(a)"
   ]
  },
  {
   "cell_type": "markdown",
   "metadata": {
    "nbpresent": {
     "id": "7d065765-1f11-47c1-a9f0-0cf971db7adc"
    }
   },
   "source": [
    "Boolean array indexing: Boolean array indexing lets you pick out arbitrary elements of an array. Frequently this type of indexing is used to select the elements of an array that satisfy some condition. Here is an example:"
   ]
  },
  {
   "cell_type": "code",
   "execution_count": null,
   "metadata": {
    "collapsed": false,
    "nbpresent": {
     "id": "a1700f5e-4664-4ec7-807b-1a5fa1c33c7b"
    }
   },
   "outputs": [],
   "source": [
    "import numpy as np\n",
    "\n",
    "a = np.array([[1,2], [3, 4], [5, 6]])\n",
    "\n",
    "bool_idx = (a > 2)  # Find the elements of a that are bigger than 2;\n",
    "                    # this returns a numpy array of Booleans of the same\n",
    "                    # shape as a, where each slot of bool_idx tells\n",
    "                    # whether that element of a is > 2.\n",
    "\n",
    "#print(bool_idx)\n",
    "help(np.arange)"
   ]
  },
  {
   "cell_type": "code",
   "execution_count": null,
   "metadata": {
    "collapsed": false,
    "nbpresent": {
     "id": "bbfca8a5-a9ad-4bed-9b6a-be6b34fe9f6a"
    }
   },
   "outputs": [],
   "source": [
    "# We use boolean array indexing to construct a rank 1 array\n",
    "# consisting of the elements of a corresponding to the True values\n",
    "# of bool_idx\n",
    "print(a[bool_idx])\n",
    "\n",
    "# We can do all of the above in a single concise statement:\n",
    "print(a[a > 2])"
   ]
  },
  {
   "cell_type": "markdown",
   "metadata": {
    "nbpresent": {
     "id": "f08a9143-e912-45b3-99b6-e1765464c414"
    }
   },
   "source": [
    "For brevity we have left out a lot of details about numpy array indexing; if you want to know more you should read the documentation."
   ]
  },
  {
   "cell_type": "markdown",
   "metadata": {
    "nbpresent": {
     "id": "4507cd94-d9e4-457b-9d1e-546e96ff6e19"
    }
   },
   "source": [
    "### Datatypes"
   ]
  },
  {
   "cell_type": "markdown",
   "metadata": {
    "nbpresent": {
     "id": "01f2a8ea-9ef4-4e01-9a0b-8852687403c5"
    }
   },
   "source": [
    "Every numpy array is a grid of elements of the same type. Numpy provides a large set of numeric datatypes that you can use to construct arrays. Numpy tries to guess a datatype when you create an array, but functions that construct arrays usually also include an optional argument to explicitly specify the datatype. Here is an example:"
   ]
  },
  {
   "cell_type": "code",
   "execution_count": null,
   "metadata": {
    "collapsed": false,
    "nbpresent": {
     "id": "6d5f0102-efad-4dc0-9b4a-c3ce77609cf4"
    }
   },
   "outputs": [],
   "source": [
    "x = np.array([1, 2])  # Let numpy choose the datatype\n",
    "y = np.array([1.0, 2.0])  # Let numpy choose the datatype\n",
    "z = np.array([1, 2], dtype=np.int64)  # Force a particular datatype\n",
    "\n",
    "print(x.dtype, y.dtype, z.dtype)"
   ]
  },
  {
   "cell_type": "markdown",
   "metadata": {
    "nbpresent": {
     "id": "7e7405d6-ba24-4b21-8dfe-f22ef1c25429"
    }
   },
   "source": [
    "You can read all about numpy datatypes in the [documentation](http://docs.scipy.org/doc/numpy/reference/arrays.dtypes.html)."
   ]
  },
  {
   "cell_type": "markdown",
   "metadata": {
    "nbpresent": {
     "id": "b427ab9b-18c7-42a2-ac6c-f1cd8f876710"
    }
   },
   "source": [
    "### Array math"
   ]
  },
  {
   "cell_type": "markdown",
   "metadata": {
    "nbpresent": {
     "id": "300be362-e9b0-4486-bcf8-444ae3ecf672"
    }
   },
   "source": [
    "Basic mathematical functions operate elementwise on arrays, and are available both as operator overloads and as functions in the numpy module:"
   ]
  },
  {
   "cell_type": "code",
   "execution_count": null,
   "metadata": {
    "collapsed": false,
    "nbpresent": {
     "id": "83d3addc-c9e0-4bf2-8afc-36bfe0546488"
    }
   },
   "outputs": [],
   "source": [
    "x = np.array([[1,2],[3,4]], dtype=np.float64)\n",
    "y = np.array([[5,6],[7,8]], dtype=np.float64)\n",
    "\n",
    "# Elementwise sum; both produce the array\n",
    "print(x + y)\n",
    "print(np.add(x, y))"
   ]
  },
  {
   "cell_type": "code",
   "execution_count": null,
   "metadata": {
    "collapsed": false,
    "nbpresent": {
     "id": "0a62a025-b395-4814-b71a-bc4ffbd52bc4"
    }
   },
   "outputs": [],
   "source": [
    "# Elementwise difference; both produce the array\n",
    "print(x - y)\n",
    "print(np.subtract(x, y))"
   ]
  },
  {
   "cell_type": "code",
   "execution_count": null,
   "metadata": {
    "collapsed": false,
    "nbpresent": {
     "id": "a9bfd384-267e-4fbf-a54b-7619c8912ed4"
    }
   },
   "outputs": [],
   "source": [
    "# Elementwise product; both produce the array\n",
    "print(x * y)\n",
    "print(np.multiply(x, y))"
   ]
  },
  {
   "cell_type": "code",
   "execution_count": null,
   "metadata": {
    "collapsed": false,
    "nbpresent": {
     "id": "ae093058-3918-4c6d-a8b2-a4436e6d662e"
    }
   },
   "outputs": [],
   "source": [
    "# Elementwise division; both produce the array\n",
    "# [[ 0.2         0.33333333]\n",
    "#  [ 0.42857143  0.5       ]]\n",
    "print(x / y)\n",
    "print(np.divide(x, y))"
   ]
  },
  {
   "cell_type": "code",
   "execution_count": null,
   "metadata": {
    "collapsed": false,
    "nbpresent": {
     "id": "04f7f55a-4bf1-42f1-a7ef-f2cc5e6377c3"
    }
   },
   "outputs": [],
   "source": [
    "# Elementwise square root; produces the array\n",
    "# [[ 1.          1.41421356]\n",
    "#  [ 1.73205081  2.        ]]\n",
    "print(np.sqrt(x))"
   ]
  },
  {
   "cell_type": "markdown",
   "metadata": {
    "nbpresent": {
     "id": "787cdca8-99f4-41a5-8cae-fc7dd34c372c"
    }
   },
   "source": [
    "Note that unlike MATLAB, `*` is elementwise multiplication, not matrix multiplication. We instead use the dot function to compute inner products of vectors, to multiply a vector by a matrix, and to multiply matrices. dot is available both as a function in the numpy module and as an instance method of array objects:"
   ]
  },
  {
   "cell_type": "code",
   "execution_count": null,
   "metadata": {
    "collapsed": false,
    "nbpresent": {
     "id": "2f2d25b7-c85e-480e-ae94-4a6c7e36d099"
    }
   },
   "outputs": [],
   "source": [
    "x = np.array([[1,2],[3,4]])\n",
    "y = np.array([[5,6],[7,8]])\n",
    "\n",
    "v = np.array([9,10])\n",
    "w = np.array([11, 12])\n",
    "\n",
    "# Inner product of vectors; both produce 219\n",
    "print(v.dot(w))\n",
    "print(np.dot(v, w))"
   ]
  },
  {
   "cell_type": "code",
   "execution_count": null,
   "metadata": {
    "collapsed": false,
    "nbpresent": {
     "id": "0ff8b39e-53b4-4b27-892f-d3d68ca0da05"
    }
   },
   "outputs": [],
   "source": [
    "# Matrix / vector product; both produce the rank 1 array [29 67]\n",
    "print(x.dot(v))\n",
    "print(np.dot(x, v))"
   ]
  },
  {
   "cell_type": "code",
   "execution_count": null,
   "metadata": {
    "collapsed": false,
    "nbpresent": {
     "id": "bfa7df02-dfd9-45ba-a45a-4056f6e9cad2"
    }
   },
   "outputs": [],
   "source": [
    "# Matrix / matrix product; both produce the rank 2 array\n",
    "# [[19 22]\n",
    "#  [43 50]]\n",
    "print(x.dot(y))\n",
    "print(np.dot(x, y))"
   ]
  },
  {
   "cell_type": "markdown",
   "metadata": {
    "nbpresent": {
     "id": "298a09fa-7405-4a52-a003-619dafa32cf5"
    }
   },
   "source": [
    "Numpy provides many useful functions for performing computations on arrays; one of the most useful is `sum`:"
   ]
  },
  {
   "cell_type": "code",
   "execution_count": null,
   "metadata": {
    "collapsed": false,
    "nbpresent": {
     "id": "fe90f6c2-c865-4de6-906f-cec0529c2afe"
    }
   },
   "outputs": [],
   "source": [
    "x = np.array([[1,2],[3,4]])\n",
    "\n",
    "print(np.sum(x))  # Compute sum of all elements; prints \"10\"\n",
    "print(np.sum(x, axis=0))  # Compute sum of each column; prints \"[4 6]\"\n",
    "print(np.sum(x, axis=1))  # Compute sum of each row; prints \"[3 7]\""
   ]
  },
  {
   "cell_type": "markdown",
   "metadata": {
    "nbpresent": {
     "id": "35645b0a-5522-488c-b578-97c44f135d3e"
    }
   },
   "source": [
    "You can find the full list of mathematical functions provided by numpy in the [documentation](http://docs.scipy.org/doc/numpy/reference/routines.math.html).\n",
    "\n",
    "Apart from computing mathematical functions using arrays, we frequently need to reshape or otherwise manipulate data in arrays. The simplest example of this type of operation is transposing a matrix; to transpose a matrix, simply use the T attribute of an array object:"
   ]
  },
  {
   "cell_type": "code",
   "execution_count": null,
   "metadata": {
    "collapsed": false,
    "nbpresent": {
     "id": "38ed133a-0cc8-4768-a731-77f79263639a"
    }
   },
   "outputs": [],
   "source": [
    "print(x)\n",
    "print(x.T)"
   ]
  },
  {
   "cell_type": "code",
   "execution_count": null,
   "metadata": {
    "collapsed": false,
    "nbpresent": {
     "id": "0e8e23dc-b6f2-4e86-834e-507321d28a84"
    }
   },
   "outputs": [],
   "source": [
    "v = np.array([[1,2,3]])\n",
    "print(v)\n",
    "print(v.T)"
   ]
  },
  {
   "cell_type": "markdown",
   "metadata": {
    "nbpresent": {
     "id": "530b84d9-027a-43ce-8334-893fc62663ad"
    }
   },
   "source": [
    "### Broadcasting*"
   ]
  },
  {
   "cell_type": "markdown",
   "metadata": {
    "nbpresent": {
     "id": "7c9c5a34-adb5-4f2d-97a4-2faa8e58c994"
    }
   },
   "source": [
    "Broadcasting is a powerful mechanism that allows numpy to work with arrays of different shapes when performing arithmetic operations. Frequently we have a smaller array and a larger array, and we want to use the smaller array multiple times to perform some operation on the larger array.\n",
    "\n",
    "For example, suppose that we want to add a constant vector to each row of a matrix. We could do it like this:"
   ]
  },
  {
   "cell_type": "code",
   "execution_count": null,
   "metadata": {
    "collapsed": false,
    "nbpresent": {
     "id": "3a349a66-53f3-4550-85bf-9e3303d71111"
    }
   },
   "outputs": [],
   "source": [
    "# We will add the vector v to each row of the matrix x,\n",
    "# storing the result in the matrix y\n",
    "x = np.array([[1,2,3], [4,5,6], [7,8,9], [10, 11, 12]])\n",
    "v = np.array([1, 0, 1])\n",
    "y = np.empty_like(x)   # Create an empty matrix with the same shape as x\n",
    "\n",
    "# Add the vector v to each row of the matrix x with an explicit loop\n",
    "for i in range(4):\n",
    "    y[i, :] = x[i, :] + v\n",
    "\n",
    "print(y)"
   ]
  },
  {
   "cell_type": "markdown",
   "metadata": {
    "nbpresent": {
     "id": "5002ac75-5c5b-49c5-9e21-a1fd8e34158e"
    }
   },
   "source": [
    "This works; however when the matrix `x` is very large, computing an explicit loop in Python could be slow. Note that adding the vector v to each row of the matrix `x` is equivalent to forming a matrix `vv` by stacking multiple copies of `v` vertically, then performing elementwise summation of `x` and `vv`. We could implement this approach like this:"
   ]
  },
  {
   "cell_type": "code",
   "execution_count": null,
   "metadata": {
    "collapsed": false,
    "nbpresent": {
     "id": "3b761db8-b30d-4fa2-860e-64720047c92f"
    }
   },
   "outputs": [],
   "source": [
    "vv = np.tile(v, (4, 1))  # Stack 4 copies of v on top of each other\n",
    "print(vv)                # Prints \"[[1 0 1]\n",
    "                         #          [1 0 1]\n",
    "                         #          [1 0 1]\n",
    "                         #          [1 0 1]]\""
   ]
  },
  {
   "cell_type": "code",
   "execution_count": null,
   "metadata": {
    "collapsed": false,
    "nbpresent": {
     "id": "202c79a5-9b8a-4b77-a19b-0700ee4cdf6a"
    }
   },
   "outputs": [],
   "source": [
    "y = x + vv  # Add x and vv elementwise\n",
    "print(y)"
   ]
  },
  {
   "cell_type": "markdown",
   "metadata": {
    "nbpresent": {
     "id": "1c2d358b-4c3e-42c3-86ac-b5a985394b64"
    }
   },
   "source": [
    "Numpy broadcasting allows us to perform this computation without actually creating multiple copies of v. Consider this version, using broadcasting:"
   ]
  },
  {
   "cell_type": "code",
   "execution_count": null,
   "metadata": {
    "collapsed": false,
    "nbpresent": {
     "id": "1a09353e-75a3-4dc3-b04b-e29f87dc00bb"
    }
   },
   "outputs": [],
   "source": [
    "import numpy as np\n",
    "\n",
    "# We will add the vector v to each row of the matrix x,\n",
    "# storing the result in the matrix y\n",
    "x = np.array([[1,2,3], [4,5,6], [7,8,9], [10, 11, 12]])\n",
    "v = np.array([1, 0, 1])\n",
    "y = x + v  # Add v to each row of x using broadcasting\n",
    "print(y)"
   ]
  },
  {
   "cell_type": "markdown",
   "metadata": {
    "nbpresent": {
     "id": "f9bf8877-45ca-4f48-9c07-4d9f4ff3deb9"
    }
   },
   "source": [
    "The line `y = x + v` works even though `x` has shape `(4, 3)` and `v` has shape `(3,)` due to broadcasting; this line works as if v actually had shape `(4, 3)`, where each row was a copy of `v`, and the sum was performed elementwise.\n",
    "\n",
    "Broadcasting two arrays together follows these rules:\n",
    "\n",
    "1. If the arrays do not have the same rank, prepend the shape of the lower rank array with 1s until both shapes have the same length.\n",
    "2. The two arrays are said to be compatible in a dimension if they have the same size in the dimension, or if one of the arrays has size 1 in that dimension.\n",
    "3. The arrays can be broadcast together if they are compatible in all dimensions.\n",
    "4. After broadcasting, each array behaves as if it had shape equal to the elementwise maximum of shapes of the two input arrays.\n",
    "5. In any dimension where one array had size 1 and the other array had size greater than 1, the first array behaves as if it were copied along that dimension\n",
    "\n",
    "If this explanation does not make sense, try reading the explanation from the [documentation](http://docs.scipy.org/doc/numpy/user/basics.broadcasting.html) or this [explanation](http://wiki.scipy.org/EricsBroadcastingDoc).\n",
    "\n",
    "Functions that support broadcasting are known as universal functions. You can find the list of all universal functions in the [documentation](http://docs.scipy.org/doc/numpy/reference/ufuncs.html#available-ufuncs).\n",
    "\n",
    "Here are some applications of broadcasting:"
   ]
  },
  {
   "cell_type": "code",
   "execution_count": null,
   "metadata": {
    "collapsed": false,
    "nbpresent": {
     "id": "521bc70e-c0f8-4a54-a7df-e8742a291c76"
    }
   },
   "outputs": [],
   "source": [
    "# Compute outer product of vectors\n",
    "v = np.array([1,2,3])  # v has shape (3,)\n",
    "w = np.array([4,5])    # w has shape (2,)\n",
    "# To compute an outer product, we first reshape v to be a column\n",
    "# vector of shape (3, 1); we can then broadcast it against w to yield\n",
    "# an output of shape (3, 2), which is the outer product of v and w:\n",
    "\n",
    "print(np.reshape(v, (3, 1)) * w)"
   ]
  },
  {
   "cell_type": "code",
   "execution_count": null,
   "metadata": {
    "collapsed": false,
    "nbpresent": {
     "id": "aa3496ab-0ce4-43ee-9e04-67de99fa3b8d"
    }
   },
   "outputs": [],
   "source": [
    "# Add a vector to each row of a matrix\n",
    "x = np.array([[1,2,3], [4,5,6]])\n",
    "# x has shape (2, 3) and v has shape (3,) so they broadcast to (2, 3),\n",
    "# giving the following matrix:\n",
    "\n",
    "print(x + v)"
   ]
  },
  {
   "cell_type": "code",
   "execution_count": null,
   "metadata": {
    "collapsed": false,
    "nbpresent": {
     "id": "cedbab2c-8fda-4301-a455-5fdbe7f2b478"
    }
   },
   "outputs": [],
   "source": [
    "# Add a vector to each column of a matrix\n",
    "# x has shape (2, 3) and w has shape (2,).\n",
    "# If we transpose x then it has shape (3, 2) and can be broadcast\n",
    "# against w to yield a result of shape (3, 2); transposing this result\n",
    "# yields the final result of shape (2, 3) which is the matrix x with\n",
    "# the vector w added to each column. Gives the following matrix:\n",
    "\n",
    "print((x.T + w).T)"
   ]
  },
  {
   "cell_type": "code",
   "execution_count": null,
   "metadata": {
    "collapsed": false,
    "nbpresent": {
     "id": "40b45989-7eb2-4da0-b9c3-df8a8d867cd6"
    }
   },
   "outputs": [],
   "source": [
    "# Another solution is to reshape w to be a row vector of shape (2, 1);\n",
    "# we can then broadcast it directly against x to produce the same\n",
    "# output.\n",
    "print(x + np.reshape(w, (2, 1)))"
   ]
  },
  {
   "cell_type": "code",
   "execution_count": null,
   "metadata": {
    "collapsed": false,
    "nbpresent": {
     "id": "604ab7b9-5068-4bab-b546-e9bc0b1f4027"
    }
   },
   "outputs": [],
   "source": [
    "# Multiply a matrix by a constant:\n",
    "# x has shape (2, 3). Numpy treats scalars as arrays of shape ();\n",
    "# these can be broadcast together to shape (2, 3), producing the\n",
    "# following array:\n",
    "print(x * 2)"
   ]
  },
  {
   "cell_type": "markdown",
   "metadata": {
    "nbpresent": {
     "id": "b6f5632f-f188-441d-860d-3c44247d8ce1"
    }
   },
   "source": [
    "Broadcasting typically makes your code more concise and faster, so you should strive to use it where possible."
   ]
  },
  {
   "cell_type": "markdown",
   "metadata": {
    "nbpresent": {
     "id": "608d4542-0ab1-4265-92ad-9e0377b44b33"
    }
   },
   "source": [
    "This brief overview has touched on many of the important things that you need to know about numpy, but is far from complete. Check out the [numpy reference](http://docs.scipy.org/doc/numpy/reference/) to find out much more about numpy."
   ]
  },
  {
   "cell_type": "markdown",
   "metadata": {
    "nbpresent": {
     "id": "05e0ceb4-3349-47dc-a070-2b4207425d0e"
    }
   },
   "source": [
    "## Matplotlib"
   ]
  },
  {
   "cell_type": "markdown",
   "metadata": {
    "nbpresent": {
     "id": "ec8f4c33-77cb-40a1-80a7-24df0d4cc693"
    }
   },
   "source": [
    "Matplotlib is a plotting library. In this section give a brief introduction to the `matplotlib.pyplot` module, which provides a plotting system similar to that of MATLAB."
   ]
  },
  {
   "cell_type": "code",
   "execution_count": null,
   "metadata": {
    "collapsed": false,
    "nbpresent": {
     "id": "b0dbfb09-19ef-4e5c-9a7e-4c9568fd3ff1"
    }
   },
   "outputs": [],
   "source": [
    "import matplotlib.pyplot as plt"
   ]
  },
  {
   "cell_type": "markdown",
   "metadata": {
    "nbpresent": {
     "id": "c8d9d348-4b14-49f1-ad89-d8084294f5ba"
    }
   },
   "source": [
    "By running this special iPython command, we will be displaying plots inline:"
   ]
  },
  {
   "cell_type": "code",
   "execution_count": null,
   "metadata": {
    "collapsed": false,
    "nbpresent": {
     "id": "e27bef65-0322-42e4-8d39-e3eef7b0cc8f"
    }
   },
   "outputs": [],
   "source": [
    "%matplotlib inline"
   ]
  },
  {
   "cell_type": "markdown",
   "metadata": {
    "nbpresent": {
     "id": "0a4917bf-4d8e-4906-8a39-98bd586baf9b"
    }
   },
   "source": [
    "### Plotting"
   ]
  },
  {
   "cell_type": "markdown",
   "metadata": {
    "nbpresent": {
     "id": "a8e82701-4b5e-4f0a-83ce-41375eb58518"
    }
   },
   "source": [
    "The most important function in `matplotlib` is plot, which allows you to plot 2D data. Here is a simple example:"
   ]
  },
  {
   "cell_type": "code",
   "execution_count": null,
   "metadata": {
    "collapsed": false,
    "nbpresent": {
     "id": "877d32e6-5a58-49aa-96a4-67a4c023fef4"
    }
   },
   "outputs": [],
   "source": [
    "# Compute the x and y coordinates for points on a sine curve\n",
    "x = np.arange(0, 3 * np.pi, 0.1)\n",
    "y = np.sin(x)\n",
    "\n",
    "# Plot the points using matplotlib\n",
    "plt.plot(x, y)\n",
    "plt.show() #when not using jupyter\n",
    "plt.savefig('filename')"
   ]
  },
  {
   "cell_type": "markdown",
   "metadata": {
    "nbpresent": {
     "id": "09c0b49b-96a0-417e-a9da-9bad540e08cc"
    }
   },
   "source": [
    "With just a little bit of extra work we can easily plot multiple lines at once, and add a title, legend, and axis labels:"
   ]
  },
  {
   "cell_type": "code",
   "execution_count": null,
   "metadata": {
    "collapsed": false,
    "nbpresent": {
     "id": "9662c785-224f-48c7-bb9d-f059a4b225c5"
    }
   },
   "outputs": [],
   "source": [
    "y_cos = np.cos(x)\n",
    "y_sin = np.sin(x)\n",
    "\n",
    "# Plot the points using matplotlib\n",
    "plt.plot(x, y_sin)\n",
    "plt.plot(x, y_cos)\n",
    "plt.xlabel('x axis label')\n",
    "plt.ylabel('y axis label')\n",
    "plt.title('Sine and Cosine')\n",
    "plt.legend(['Sine', 'Cosine'])"
   ]
  },
  {
   "cell_type": "markdown",
   "metadata": {
    "nbpresent": {
     "id": "b593e372-1030-4454-a2ca-6d86e7fdadc3"
    }
   },
   "source": [
    "### Subplots "
   ]
  },
  {
   "cell_type": "markdown",
   "metadata": {
    "nbpresent": {
     "id": "a8ee65d0-4fc5-418b-a116-d34987b0d725"
    }
   },
   "source": [
    "You can plot different things in the same figure using the subplot function. Here is an example:"
   ]
  },
  {
   "cell_type": "code",
   "execution_count": null,
   "metadata": {
    "collapsed": false,
    "nbpresent": {
     "id": "776acdbc-8f80-4f6a-a552-e14284f0b885"
    }
   },
   "outputs": [],
   "source": [
    "# Compute the x and y coordinates for points on sine and cosine curves\n",
    "x = np.arange(0, 3 * np.pi, 0.1)\n",
    "y_sin = np.sin(x)\n",
    "y_cos = np.cos(x)\n",
    "\n",
    "# Set up a subplot grid that has height 2 and width 1,\n",
    "# and set the first such subplot as active.\n",
    "plt.subplot(2, 1, 1)\n",
    "\n",
    "# Make the first plot\n",
    "plt.plot(x, y_sin)\n",
    "plt.title('Sine')\n",
    "\n",
    "# Set the second subplot as active, and make the second plot.\n",
    "plt.subplot(2, 1, 2)\n",
    "plt.plot(x, y_cos)\n",
    "plt.title('Cosine')\n",
    "\n",
    "# Show the figure.\n",
    "plt.show()"
   ]
  },
  {
   "cell_type": "markdown",
   "metadata": {
    "nbpresent": {
     "id": "ceaea56d-fa3e-48ea-8054-601a201f8296"
    }
   },
   "source": [
    "You can read much more about the `subplot` function in the [documentation](http://matplotlib.org/api/pyplot_api.html#matplotlib.pyplot.subplot)."
   ]
  },
  {
   "cell_type": "markdown",
   "metadata": {
    "collapsed": false
   },
   "source": [
    "### Contour and 3D-plots"
   ]
  },
  {
   "cell_type": "code",
   "execution_count": null,
   "metadata": {
    "collapsed": true
   },
   "outputs": [],
   "source": [
    "xlist = np.linspace(-3.0, 3.0, 3)\n",
    "ylist = np.linspace(-3.0, 3.0, 4)\n",
    "X, Y = np.meshgrid(xlist, ylist)\n",
    "Z = np.sqrt(X**2 + Y**2)"
   ]
  },
  {
   "cell_type": "markdown",
   "metadata": {},
   "source": [
    "A simple contour"
   ]
  },
  {
   "cell_type": "code",
   "execution_count": null,
   "metadata": {
    "collapsed": false
   },
   "outputs": [],
   "source": [
    "plt.figure()\n",
    "cp = plt.contour(X, Y, Z)\n",
    "plt.clabel(cp, inline=True, \n",
    "          fontsize=10)\n",
    "plt.title('Contour Plot')\n",
    "plt.xlabel('x (cm)')\n",
    "plt.ylabel('y (cm)')\n",
    "plt.show()"
   ]
  },
  {
   "cell_type": "markdown",
   "metadata": {},
   "source": [
    "Filled contour:"
   ]
  },
  {
   "cell_type": "code",
   "execution_count": null,
   "metadata": {
    "collapsed": false
   },
   "outputs": [],
   "source": [
    "plt.figure()\n",
    "cp = plt.contourf(X, Y, Z)\n",
    "plt.colorbar(cp)\n",
    "plt.title('Filled Contours Plot')\n",
    "plt.xlabel('x (cm)')\n",
    "plt.ylabel('y (cm)')\n",
    "plt.show()"
   ]
  },
  {
   "cell_type": "markdown",
   "metadata": {},
   "source": [
    "More interesting contours:"
   ]
  },
  {
   "cell_type": "code",
   "execution_count": null,
   "metadata": {
    "collapsed": false
   },
   "outputs": [],
   "source": [
    "y, x = np.ogrid[-1:2:100j, -1:1:100j]\n",
    "plt.contour(x.ravel(), \n",
    "            y.ravel(), \n",
    "            x**2 + (y-((x**2)**(1.0/3)))**2, \n",
    "            [1],\n",
    "            colors='red',)\n",
    "plt.axis('equal')\n",
    "plt.show()"
   ]
  },
  {
   "cell_type": "markdown",
   "metadata": {},
   "source": [
    "3D Plots:"
   ]
  },
  {
   "cell_type": "code",
   "execution_count": null,
   "metadata": {
    "collapsed": false
   },
   "outputs": [],
   "source": [
    "from mpl_toolkits.mplot3d import Axes3D\n",
    "fig = plt.figure()\n",
    "ax = fig.add_subplot(111, projection='3d')\n",
    "\n",
    "# Make data\n",
    "u = np.linspace(0, 2 * np.pi, 100)\n",
    "v = np.linspace(0, np.pi, 100)\n",
    "x = 10 * np.outer(np.cos(u), np.sin(v))\n",
    "y = 10 * np.outer(np.sin(u), np.sin(v))\n",
    "z = 10 * np.outer(np.ones(np.size(u)), np.cos(v))\n",
    "\n",
    "# Plot the surface\n",
    "# ax.plot_wireframe(x, y, z, color='b')\n",
    "ax.plot_surface(x, y, z, color='g')\n",
    "plt.show()"
   ]
  },
  {
   "cell_type": "code",
   "execution_count": null,
   "metadata": {
    "collapsed": true
   },
   "outputs": [],
   "source": []
  }
 ],
 "metadata": {
  "anaconda-cloud": {},
  "celltoolbar": "Raw Cell Format",
  "kernelspec": {
   "display_name": "Python 2",
   "language": "python",
   "name": "python2"
  },
  "language_info": {
   "codemirror_mode": {
    "name": "ipython",
    "version": 2
   },
   "file_extension": ".py",
   "mimetype": "text/x-python",
   "name": "python",
   "nbconvert_exporter": "python",
   "pygments_lexer": "ipython2",
   "version": "2.7.9"
  },
  "nbpresent": {
   "slides": {
    "00a595d1-e383-4f02-a60c-c78ae555abd5": {
     "id": "00a595d1-e383-4f02-a60c-c78ae555abd5",
     "prev": "65a4c6ad-4d90-4d3c-8ab4-b4c6743cf3b3",
     "regions": {
      "0f214fb1-1ea2-4e10-910d-3312caef8f3c": {
       "attrs": {
        "height": 0.8,
        "width": 0.8,
        "x": 0.1,
        "y": 0.1
       },
       "content": {
        "cell": "40b45989-7eb2-4da0-b9c3-df8a8d867cd6",
        "part": "whole"
       },
       "id": "0f214fb1-1ea2-4e10-910d-3312caef8f3c"
      }
     }
    },
    "05590fd7-7417-467a-9ffb-be2062380e3f": {
     "id": "05590fd7-7417-467a-9ffb-be2062380e3f",
     "prev": "491358b3-4aaf-4dd6-8924-14a2da917543",
     "regions": {
      "8830111f-6db1-4c27-835a-54e4be042c1e": {
       "attrs": {
        "height": 0.8,
        "width": 0.8,
        "x": 0.1,
        "y": 0.1
       },
       "content": {
        "cell": "04f7f55a-4bf1-42f1-a7ef-f2cc5e6377c3",
        "part": "whole"
       },
       "id": "8830111f-6db1-4c27-835a-54e4be042c1e"
      }
     }
    },
    "0ab2895c-557c-451c-988b-d4675f6effda": {
     "id": "0ab2895c-557c-451c-988b-d4675f6effda",
     "prev": "e095a1f7-5bff-4fb0-9564-2b4eb6cbff1c",
     "regions": {
      "643db8d6-b806-46e4-9fa5-8b2c7c888d6f": {
       "attrs": {
        "height": 0.8,
        "width": 0.8,
        "x": 0.1,
        "y": 0.1
       },
       "content": {
        "cell": "530b84d9-027a-43ce-8334-893fc62663ad",
        "part": "whole"
       },
       "id": "643db8d6-b806-46e4-9fa5-8b2c7c888d6f"
      }
     }
    },
    "0eedda11-464c-4536-9214-9eeae4342d7d": {
     "id": "0eedda11-464c-4536-9214-9eeae4342d7d",
     "prev": "a528a39c-7925-4e08-b7a3-256c0899a2d6",
     "regions": {
      "b3949fb4-06da-4f0e-aca7-38032e6cf010": {
       "attrs": {
        "height": 0.8,
        "width": 0.8,
        "x": 0.1,
        "y": 0.1
       },
       "content": {
        "cell": "f39f2dec-f848-4e41-bdbc-f8845b029280",
        "part": "whole"
       },
       "id": "b3949fb4-06da-4f0e-aca7-38032e6cf010"
      }
     }
    },
    "0f6e86e7-2c94-43ff-b8a7-d776ba35f646": {
     "id": "0f6e86e7-2c94-43ff-b8a7-d776ba35f646",
     "prev": "a2854f74-0dbe-47f6-9971-d382c80a3473",
     "regions": {
      "f8bafb44-d3f3-490a-84c6-e887a878b483": {
       "attrs": {
        "height": 0.8,
        "width": 0.8,
        "x": 0.1,
        "y": 0.1
       },
       "content": {
        "cell": "f23f746b-363d-4b94-8903-65375b6ffe9d",
        "part": "whole"
       },
       "id": "f8bafb44-d3f3-490a-84c6-e887a878b483"
      }
     }
    },
    "12638b19-1cd9-450f-8bd4-fab8b2b06b92": {
     "id": "12638b19-1cd9-450f-8bd4-fab8b2b06b92",
     "prev": "b87f09ef-857c-41d1-876a-d6b917ff37fe",
     "regions": {
      "52395284-c809-453a-8fdf-3cb12d9dbb1e": {
       "attrs": {
        "height": 0.8,
        "width": 0.8,
        "x": 0.1,
        "y": 0.1
       },
       "content": {
        "cell": "0771cf35-a454-4520-98d4-7dd19d5b22f4",
        "part": "whole"
       },
       "id": "52395284-c809-453a-8fdf-3cb12d9dbb1e"
      }
     }
    },
    "14a5850c-fc8c-4975-9465-c44dfcff7302": {
     "id": "14a5850c-fc8c-4975-9465-c44dfcff7302",
     "prev": "d1322bbc-768b-4d8f-a2be-aad9269bb38b",
     "regions": {
      "4bc5d7cf-5763-4c56-92ac-b900df08eb7f": {
       "attrs": {
        "height": 0.8,
        "width": 0.8,
        "x": 0.1,
        "y": 0.1
       },
       "content": {
        "cell": "ceeeb768-508c-4741-b945-966ea5fd24ec",
        "part": "whole"
       },
       "id": "4bc5d7cf-5763-4c56-92ac-b900df08eb7f"
      }
     }
    },
    "15db1685-a05b-4329-9d68-0192bbb6861b": {
     "id": "15db1685-a05b-4329-9d68-0192bbb6861b",
     "prev": "8938deb5-937f-4d07-a567-77d36cf46028",
     "regions": {
      "18838ccf-e390-4cf6-a01b-ba2c22197ef4": {
       "attrs": {
        "height": 0.8,
        "width": 0.8,
        "x": 0.1,
        "y": 0.1
       },
       "content": {
        "cell": "3a349a66-53f3-4550-85bf-9e3303d71111",
        "part": "whole"
       },
       "id": "18838ccf-e390-4cf6-a01b-ba2c22197ef4"
      }
     }
    },
    "165e5d31-701d-41ee-9029-77c69de67dd8": {
     "id": "165e5d31-701d-41ee-9029-77c69de67dd8",
     "prev": "1c1f8d73-3480-43ae-a3c7-5ca99ca3e28e",
     "regions": {
      "3701f126-8b86-4f7d-b38c-0b1a4a5c8fd8": {
       "attrs": {
        "height": 0.8,
        "width": 0.8,
        "x": 0.1,
        "y": 0.1
       },
       "content": {
        "cell": "a1700f5e-4664-4ec7-807b-1a5fa1c33c7b",
        "part": "whole"
       },
       "id": "3701f126-8b86-4f7d-b38c-0b1a4a5c8fd8"
      }
     }
    },
    "180006f2-b175-4e22-8491-b59201846ab9": {
     "id": "180006f2-b175-4e22-8491-b59201846ab9",
     "prev": "525e8c74-8119-41b6-a8c4-504b6438e577",
     "regions": {
      "747affde-240a-4ebb-84a8-35bf2c6dfa4c": {
       "attrs": {
        "height": 0.8,
        "width": 0.8,
        "x": 0.1,
        "y": 0.1
       },
       "content": {
        "cell": "7cb67235-f59f-4c0e-af4c-227b502d701d",
        "part": "whole"
       },
       "id": "747affde-240a-4ebb-84a8-35bf2c6dfa4c"
      }
     }
    },
    "183f196a-c15c-4df5-ba37-e43c41344fff": {
     "id": "183f196a-c15c-4df5-ba37-e43c41344fff",
     "prev": "acce5427-f296-4dea-a7d4-bc371492e628",
     "regions": {
      "0b4137c5-0176-4800-8ee4-529f57c23bea": {
       "attrs": {
        "height": 0.8,
        "width": 0.8,
        "x": 0.1,
        "y": 0.1
       },
       "content": {
        "cell": "09c0b49b-96a0-417e-a9da-9bad540e08cc",
        "part": "whole"
       },
       "id": "0b4137c5-0176-4800-8ee4-529f57c23bea"
      }
     }
    },
    "1a99dd52-206d-42d0-b3fd-14bb4f983a2c": {
     "id": "1a99dd52-206d-42d0-b3fd-14bb4f983a2c",
     "prev": "ca98dd64-fe1c-46bc-b4dd-d4245f4c227a",
     "regions": {
      "415438ee-2a7c-479f-b1ab-1c2078a5d0d1": {
       "attrs": {
        "height": 0.8,
        "width": 0.8,
        "x": 0.1,
        "y": 0.1
       },
       "content": {
        "cell": "ad90585f-f31c-48ef-a741-7845c2e2842e",
        "part": "whole"
       },
       "id": "415438ee-2a7c-479f-b1ab-1c2078a5d0d1"
      }
     }
    },
    "1c1f8d73-3480-43ae-a3c7-5ca99ca3e28e": {
     "id": "1c1f8d73-3480-43ae-a3c7-5ca99ca3e28e",
     "prev": "c60296d8-f32e-4c6e-b73f-e5bf7ea771cf",
     "regions": {
      "3181a517-32d0-4a9d-bb8a-3b9579cf8276": {
       "attrs": {
        "height": 0.8,
        "width": 0.8,
        "x": 0.1,
        "y": 0.1
       },
       "content": {
        "cell": "7d065765-1f11-47c1-a9f0-0cf971db7adc",
        "part": "whole"
       },
       "id": "3181a517-32d0-4a9d-bb8a-3b9579cf8276"
      }
     }
    },
    "1ecc556e-1039-4990-8490-b89b4ee4263b": {
     "id": "1ecc556e-1039-4990-8490-b89b4ee4263b",
     "prev": "93f40abe-c058-484f-83bf-92ed29b9d0b7",
     "regions": {
      "edba6d7c-669d-4b3b-81df-e3b2690e0200": {
       "attrs": {
        "height": 0.8,
        "width": 0.8,
        "x": 0.1,
        "y": 0.1
       },
       "content": {
        "cell": "b33013e6-956d-489c-97b9-63033c413f25",
        "part": "whole"
       },
       "id": "edba6d7c-669d-4b3b-81df-e3b2690e0200"
      }
     }
    },
    "1ee9ea55-3152-4a13-8081-9acdb8874f95": {
     "id": "1ee9ea55-3152-4a13-8081-9acdb8874f95",
     "prev": "51721c64-7b0c-4f76-8780-6b5d1fabd44a",
     "regions": {
      "ffa87a28-d9e4-4a5d-896a-fb38508ddc34": {
       "attrs": {
        "height": 0.8,
        "width": 0.8,
        "x": 0.1,
        "y": 0.1
       },
       "content": {
        "cell": "526fa87b-ce0b-4ec0-aed3-da8e1c043272",
        "part": "whole"
       },
       "id": "ffa87a28-d9e4-4a5d-896a-fb38508ddc34"
      }
     }
    },
    "1f403fb6-ac52-44e7-8ac3-3669a690174f": {
     "id": "1f403fb6-ac52-44e7-8ac3-3669a690174f",
     "prev": "8ebd9355-b688-4497-95f5-b8df941ceb73",
     "regions": {
      "dfe3eae2-5126-45e1-afed-967742ff2e6e": {
       "attrs": {
        "height": 0.8,
        "width": 0.8,
        "x": 0.1,
        "y": 0.1
       },
       "content": {
        "cell": "45440ef4-f2a9-44e9-84e7-d7626743ce4c",
        "part": "whole"
       },
       "id": "dfe3eae2-5126-45e1-afed-967742ff2e6e"
      }
     }
    },
    "1f8f99d2-0712-43f4-b6e6-3631b43d11c2": {
     "id": "1f8f99d2-0712-43f4-b6e6-3631b43d11c2",
     "prev": "e90df299-9a27-4b13-86cb-7ddfeaa873b6",
     "regions": {
      "e59c3207-dbf0-4d52-a20d-539f51845455": {
       "attrs": {
        "height": 0.8,
        "width": 0.8,
        "x": 0.1,
        "y": 0.1
       },
       "content": {
        "cell": "136a68b8-c2a1-4707-b3aa-ea15603b665c",
        "part": "whole"
       },
       "id": "e59c3207-dbf0-4d52-a20d-539f51845455"
      }
     }
    },
    "20f8c0ec-472c-4a2f-9c11-daf84e590153": {
     "id": "20f8c0ec-472c-4a2f-9c11-daf84e590153",
     "prev": "988b4e6d-28c5-4a7b-867f-b6737c68d553",
     "regions": {
      "de870815-2bc5-4e44-afa8-eff34ccd8feb": {
       "attrs": {
        "height": 0.8,
        "width": 0.8,
        "x": 0.1,
        "y": 0.1
       },
       "content": {
        "cell": "3bf7f2e1-f95b-438c-be7a-36ccf89858ea",
        "part": "whole"
       },
       "id": "de870815-2bc5-4e44-afa8-eff34ccd8feb"
      }
     }
    },
    "2259f98a-e16a-4e23-8b3e-4e95e6a30790": {
     "id": "2259f98a-e16a-4e23-8b3e-4e95e6a30790",
     "prev": "fcb37010-46b9-420e-8af2-9601cdeaf82e",
     "regions": {
      "a0d6099f-17a8-44c1-a76f-42bab4e7f0a7": {
       "attrs": {
        "height": 0.8,
        "width": 0.8,
        "x": 0.1,
        "y": 0.1
       },
       "content": {
        "cell": "daafe990-9806-4203-b242-6c9874af29ad",
        "part": "whole"
       },
       "id": "a0d6099f-17a8-44c1-a76f-42bab4e7f0a7"
      }
     }
    },
    "23412e79-5ad3-40e9-82c7-0c0589633494": {
     "id": "23412e79-5ad3-40e9-82c7-0c0589633494",
     "prev": "52eef72c-d211-4804-9b77-ba08fcc1b231",
     "regions": {
      "2a7bf3b6-91c4-4ecb-941a-056e0813b463": {
       "attrs": {
        "height": 0.8,
        "width": 0.8,
        "x": 0.1,
        "y": 0.1
       },
       "content": {
        "cell": "6f003877-6a93-4078-852c-37d9953eec7b",
        "part": "whole"
       },
       "id": "2a7bf3b6-91c4-4ecb-941a-056e0813b463"
      }
     }
    },
    "24611839-58f0-4531-93c9-65d6d880c25b": {
     "id": "24611839-58f0-4531-93c9-65d6d880c25b",
     "prev": "fe82e8df-394a-4332-bcf5-71d7d11f8a57",
     "regions": {
      "22a9e3de-9f50-447f-ba55-d5e9eed9b9ed": {
       "attrs": {
        "height": 0.8,
        "width": 0.8,
        "x": 0.1,
        "y": 0.1
       },
       "content": {
        "cell": "06e183fa-f9f8-4b88-96ac-5959e5fa7bbb",
        "part": "whole"
       },
       "id": "22a9e3de-9f50-447f-ba55-d5e9eed9b9ed"
      }
     }
    },
    "249000a2-31be-4b0a-a7bf-41d6410a02b6": {
     "id": "249000a2-31be-4b0a-a7bf-41d6410a02b6",
     "prev": "d0a4cb2d-3ca7-453b-b948-34414357c1c9",
     "regions": {
      "1ce79c30-7ebb-4b58-bf57-e939a38869c3": {
       "attrs": {
        "height": 0.8,
        "width": 0.8,
        "x": 0.1,
        "y": 0.1
       },
       "content": {
        "cell": "d1b78515-9b6f-427b-b452-e3db7529833b",
        "part": "whole"
       },
       "id": "1ce79c30-7ebb-4b58-bf57-e939a38869c3"
      }
     }
    },
    "26999994-1a75-4dfe-9284-1e397a858327": {
     "id": "26999994-1a75-4dfe-9284-1e397a858327",
     "prev": "9006c8c5-2eb5-4cff-8f48-6667e8ff6886",
     "regions": {
      "f3607549-45b9-456d-934f-cc252add3341": {
       "attrs": {
        "height": 0.8,
        "width": 0.8,
        "x": 0.1,
        "y": 0.1
       },
       "content": {
        "cell": "10a6776d-5e9a-4ca0-a7e9-784b69b9c78e",
        "part": "whole"
       },
       "id": "f3607549-45b9-456d-934f-cc252add3341"
      }
     }
    },
    "271d1254-fdf3-4380-8e97-a672e47f16a6": {
     "id": "271d1254-fdf3-4380-8e97-a672e47f16a6",
     "prev": "1ecc556e-1039-4990-8490-b89b4ee4263b",
     "regions": {
      "6c612788-3f6b-45db-b782-e27bc6ace81a": {
       "attrs": {
        "height": 0.8,
        "width": 0.8,
        "x": 0.1,
        "y": 0.1
       },
       "content": {
        "cell": "9574abc1-3313-4455-ad97-8813fcd87936",
        "part": "whole"
       },
       "id": "6c612788-3f6b-45db-b782-e27bc6ace81a"
      }
     }
    },
    "2927b1ba-2316-491b-9388-619c247ac0a3": {
     "id": "2927b1ba-2316-491b-9388-619c247ac0a3",
     "prev": "dcd6c197-c44f-4283-bad5-ac37a468ad09",
     "regions": {
      "f627bd53-2340-4a16-8707-9021f3c3e5dc": {
       "attrs": {
        "height": 0.8,
        "width": 0.8,
        "x": 0.1,
        "y": 0.1
       },
       "content": {
        "cell": "ec8f4c33-77cb-40a1-80a7-24df0d4cc693",
        "part": "whole"
       },
       "id": "f627bd53-2340-4a16-8707-9021f3c3e5dc"
      }
     }
    },
    "2a083b6d-a795-4d93-8b95-bfc818016d22": {
     "id": "2a083b6d-a795-4d93-8b95-bfc818016d22",
     "prev": "6036447d-41d6-4338-b595-7ad03079d430",
     "regions": {
      "2fb39450-8476-463f-be45-4185e2d12e5c": {
       "attrs": {
        "height": 0.8,
        "width": 0.8,
        "x": 0.1,
        "y": 0.1
       },
       "content": {
        "cell": "0873de56-3886-43cc-9e88-f5d096ff1612",
        "part": "whole"
       },
       "id": "2fb39450-8476-463f-be45-4185e2d12e5c"
      }
     }
    },
    "2c16e09e-200a-4a99-8f7d-37d910754ea7": {
     "id": "2c16e09e-200a-4a99-8f7d-37d910754ea7",
     "prev": "81b76cb8-8c1d-46f4-8a48-a81be76018e7",
     "regions": {
      "d2ea701e-2daf-49ad-a47a-f2444929c14f": {
       "attrs": {
        "height": 0.8,
        "width": 0.8,
        "x": 0.1,
        "y": 0.1
       },
       "content": {
        "cell": "56d2aec7-2e29-4f38-959f-c2fabceb0e5c",
        "part": "whole"
       },
       "id": "d2ea701e-2daf-49ad-a47a-f2444929c14f"
      }
     }
    },
    "2efc36a6-9b76-4690-acca-0ae7ab13b00a": {
     "id": "2efc36a6-9b76-4690-acca-0ae7ab13b00a",
     "prev": "648a5813-74ed-47a4-8805-462794086af6",
     "regions": {
      "b854775c-9fb7-43c9-a59e-91930a177a24": {
       "attrs": {
        "height": 0.8,
        "width": 0.8,
        "x": 0.1,
        "y": 0.1
       },
       "content": {
        "cell": "4507cd94-d9e4-457b-9d1e-546e96ff6e19",
        "part": "whole"
       },
       "id": "b854775c-9fb7-43c9-a59e-91930a177a24"
      }
     }
    },
    "30bf17b4-aec7-4569-a27b-5bcbb6867f05": {
     "id": "30bf17b4-aec7-4569-a27b-5bcbb6867f05",
     "prev": "3b202222-ea24-4eff-adc5-d8f28cb36e79",
     "regions": {
      "deafd5c7-a67d-42ca-b38c-fff2c84192c5": {
       "attrs": {
        "height": 0.8,
        "width": 0.8,
        "x": 0.1,
        "y": 0.1
       },
       "content": {
        "cell": "00c54206-67e8-41d8-81f4-ded95146f7c3",
        "part": "whole"
       },
       "id": "deafd5c7-a67d-42ca-b38c-fff2c84192c5"
      }
     }
    },
    "357a008e-cfc6-4cf1-a536-012caa94bd7b": {
     "id": "357a008e-cfc6-4cf1-a536-012caa94bd7b",
     "prev": "644b6f35-e877-4ff0-a35f-249a1727a90c",
     "regions": {
      "881e5efc-5627-4ed7-9a4e-ab1688394f75": {
       "attrs": {
        "height": 0.8,
        "width": 0.8,
        "x": 0.1,
        "y": 0.1
       },
       "content": {
        "cell": "f9533b0b-090c-43e0-bae3-48522eb38e93",
        "part": "whole"
       },
       "id": "881e5efc-5627-4ed7-9a4e-ab1688394f75"
      }
     }
    },
    "3604b52a-7c99-4faf-950f-cb42136a0a81": {
     "id": "3604b52a-7c99-4faf-950f-cb42136a0a81",
     "prev": "3a940eff-b1f6-4c73-a974-f39045ae7cc3",
     "regions": {
      "a6487e52-2596-42cd-a005-bf1d621ff16a": {
       "attrs": {
        "height": 0.8,
        "width": 0.8,
        "x": 0.1,
        "y": 0.1
       },
       "content": {
        "cell": "ad656435-f212-477f-ae6e-7f2697bba756",
        "part": "whole"
       },
       "id": "a6487e52-2596-42cd-a005-bf1d621ff16a"
      }
     }
    },
    "37af5e01-3cac-40c0-973f-9d38fa7d24a2": {
     "id": "37af5e01-3cac-40c0-973f-9d38fa7d24a2",
     "prev": "8ff64301-f869-4c51-b1d4-1fead4cd4808",
     "regions": {
      "2b99af33-f7aa-4f3c-b182-35744cd60ec0": {
       "attrs": {
        "height": 0.8,
        "width": 0.8,
        "x": 0.1,
        "y": 0.1
       },
       "content": {
        "cell": "bb9feeba-fdbd-448f-ab9f-c3f400e59ee0",
        "part": "whole"
       },
       "id": "2b99af33-f7aa-4f3c-b182-35744cd60ec0"
      }
     }
    },
    "38e530e2-2d82-4ade-9bd6-0f605726b965": {
     "id": "38e530e2-2d82-4ade-9bd6-0f605726b965",
     "prev": "d1fcd84c-b066-4e34-ae59-47cc3b3e0cf2",
     "regions": {
      "8a08c469-c7c5-4810-9b4b-8312b7c857a1": {
       "attrs": {
        "height": 0.8,
        "width": 0.8,
        "x": 0.1,
        "y": 0.1
       },
       "content": {
        "cell": "1360c0aa-2085-44ce-a439-fe5f56516627",
        "part": "whole"
       },
       "id": "8a08c469-c7c5-4810-9b4b-8312b7c857a1"
      }
     }
    },
    "3a940eff-b1f6-4c73-a974-f39045ae7cc3": {
     "id": "3a940eff-b1f6-4c73-a974-f39045ae7cc3",
     "prev": "5de405bf-96cf-4937-9b46-4c9f226db050",
     "regions": {
      "56c28ca5-7e44-4e29-a361-b7a00a15a8cd": {
       "attrs": {
        "height": 0.8,
        "width": 0.8,
        "x": 0.1,
        "y": 0.1
       },
       "content": {
        "cell": "d09c8a61-d339-438b-be7e-9257a2bacb7b",
        "part": "whole"
       },
       "id": "56c28ca5-7e44-4e29-a361-b7a00a15a8cd"
      }
     }
    },
    "3b202222-ea24-4eff-adc5-d8f28cb36e79": {
     "id": "3b202222-ea24-4eff-adc5-d8f28cb36e79",
     "prev": "f45ba43e-29d4-458c-81e7-666947a481ed",
     "regions": {
      "ad2c9f34-7f93-492d-be7e-c5d5b264476e": {
       "attrs": {
        "height": 0.8,
        "width": 0.8,
        "x": 0.1,
        "y": 0.1
       },
       "content": {
        "cell": "86ea867f-c3eb-4df4-8613-c6445a613929",
        "part": "whole"
       },
       "id": "ad2c9f34-7f93-492d-be7e-c5d5b264476e"
      }
     }
    },
    "3b223317-b633-44b8-affe-d921f480e43d": {
     "id": "3b223317-b633-44b8-affe-d921f480e43d",
     "prev": "183f196a-c15c-4df5-ba37-e43c41344fff",
     "regions": {
      "63f3877c-e3fd-4e61-be80-2623349ac4f5": {
       "attrs": {
        "height": 0.8,
        "width": 0.8,
        "x": 0.1,
        "y": 0.1
       },
       "content": {
        "cell": "9662c785-224f-48c7-bb9d-f059a4b225c5",
        "part": "whole"
       },
       "id": "63f3877c-e3fd-4e61-be80-2623349ac4f5"
      }
     }
    },
    "3cc2a8b4-7d31-4914-bf61-96147e6c8138": {
     "id": "3cc2a8b4-7d31-4914-bf61-96147e6c8138",
     "prev": "37af5e01-3cac-40c0-973f-9d38fa7d24a2",
     "regions": {
      "a52be574-1763-4cf0-a0ff-3be050082f98": {
       "attrs": {
        "height": 0.8,
        "width": 0.8,
        "x": 0.1,
        "y": 0.1
       },
       "content": {
        "cell": "e8c55c6d-1730-45de-ba58-e05d1ab29abb",
        "part": "whole"
       },
       "id": "a52be574-1763-4cf0-a0ff-3be050082f98"
      }
     }
    },
    "3ed49ffc-e7a7-465a-b16c-5ae07379995f": {
     "id": "3ed49ffc-e7a7-465a-b16c-5ae07379995f",
     "prev": "30bf17b4-aec7-4569-a27b-5bcbb6867f05",
     "regions": {
      "2175e157-fda1-4457-a90d-9505562347df": {
       "attrs": {
        "height": 0.8,
        "width": 0.8,
        "x": 0.1,
        "y": 0.1
       },
       "content": {
        "cell": "893257e9-9757-494a-bed3-2ee593442102",
        "part": "whole"
       },
       "id": "2175e157-fda1-4457-a90d-9505562347df"
      }
     }
    },
    "3f7f74f4-0dbb-4d60-baf4-9966d6afc771": {
     "id": "3f7f74f4-0dbb-4d60-baf4-9966d6afc771",
     "prev": "4da8cce7-d811-4951-843b-50b02385d7c9",
     "regions": {
      "f4599882-4d30-4ced-bddc-6696b36e48ac": {
       "attrs": {
        "height": 0.8,
        "width": 0.8,
        "x": 0.1,
        "y": 0.1
       },
       "content": {
        "cell": "38ed133a-0cc8-4768-a731-77f79263639a",
        "part": "whole"
       },
       "id": "f4599882-4d30-4ced-bddc-6696b36e48ac"
      }
     }
    },
    "47a27598-8cf3-40eb-a553-9bdde0a92daf": {
     "id": "47a27598-8cf3-40eb-a553-9bdde0a92daf",
     "prev": "86e02674-b935-4d08-95b3-84350c28c47f",
     "regions": {
      "f96f5f9a-5140-44f0-a6b5-ca802b83cdf3": {
       "attrs": {
        "height": 0.8,
        "width": 0.8,
        "x": 0.1,
        "y": 0.1
       },
       "content": {
        "cell": "fe90f6c2-c865-4de6-906f-cec0529c2afe",
        "part": "whole"
       },
       "id": "f96f5f9a-5140-44f0-a6b5-ca802b83cdf3"
      }
     }
    },
    "48f04665-ce8f-46ec-8351-d7b0fc12a2ba": {
     "id": "48f04665-ce8f-46ec-8351-d7b0fc12a2ba",
     "prev": "2927b1ba-2316-491b-9388-619c247ac0a3",
     "regions": {
      "7e9f2f0d-7b56-40be-ba97-8f8cd003c5aa": {
       "attrs": {
        "height": 0.8,
        "width": 0.8,
        "x": 0.1,
        "y": 0.1
       },
       "content": {
        "cell": "b0dbfb09-19ef-4e5c-9a7e-4c9568fd3ff1",
        "part": "whole"
       },
       "id": "7e9f2f0d-7b56-40be-ba97-8f8cd003c5aa"
      }
     }
    },
    "491358b3-4aaf-4dd6-8924-14a2da917543": {
     "id": "491358b3-4aaf-4dd6-8924-14a2da917543",
     "prev": "79d635b2-6e77-4187-914d-24c56b04db41",
     "regions": {
      "266cac97-f360-4eec-ab5f-cd5363c95850": {
       "attrs": {
        "height": 0.8,
        "width": 0.8,
        "x": 0.1,
        "y": 0.1
       },
       "content": {
        "cell": "ae093058-3918-4c6d-a8b2-a4436e6d662e",
        "part": "whole"
       },
       "id": "266cac97-f360-4eec-ab5f-cd5363c95850"
      }
     }
    },
    "492be23b-17fe-4c94-a4ac-9f6263a79d14": {
     "id": "492be23b-17fe-4c94-a4ac-9f6263a79d14",
     "prev": "86721147-a6fd-4e8e-a22e-3bdd0a52044d",
     "regions": {
      "5d2fd447-86a1-4dda-a2ca-038a013fb977": {
       "attrs": {
        "height": 0.8,
        "width": 0.8,
        "x": 0.1,
        "y": 0.1
       },
       "content": {
        "cell": "6a229f0b-753e-42a8-85d8-a0c5e3a8f671",
        "part": "whole"
       },
       "id": "5d2fd447-86a1-4dda-a2ca-038a013fb977"
      }
     }
    },
    "49971249-8a22-49b8-8fc8-d050836acf2d": {
     "id": "49971249-8a22-49b8-8fc8-d050836acf2d",
     "prev": "cdd5ccc3-a38f-4104-a8ff-e92f5926862b",
     "regions": {
      "e988f801-0e01-4f96-a10e-e98c74f46f81": {
       "attrs": {
        "height": 0.8,
        "width": 0.8,
        "x": 0.1,
        "y": 0.1
       },
       "content": {
        "cell": "a5e97d7d-7d14-478f-a016-bb6dbd4188fb",
        "part": "whole"
       },
       "id": "e988f801-0e01-4f96-a10e-e98c74f46f81"
      }
     }
    },
    "4a95a4c7-e17d-41d6-80e7-2cfdf1d6b2c3": {
     "id": "4a95a4c7-e17d-41d6-80e7-2cfdf1d6b2c3",
     "prev": "3cc2a8b4-7d31-4914-bf61-96147e6c8138",
     "regions": {
      "eaba3526-c8d5-4761-a2bc-772931f76aad": {
       "attrs": {
        "height": 0.8,
        "width": 0.8,
        "x": 0.1,
        "y": 0.1
       },
       "content": {
        "cell": "6128d0ab-7b47-4492-a138-71c7c145a6a0",
        "part": "whole"
       },
       "id": "eaba3526-c8d5-4761-a2bc-772931f76aad"
      }
     }
    },
    "4d4585d7-f9e6-42eb-b3c5-8cb800f6b6c1": {
     "id": "4d4585d7-f9e6-42eb-b3c5-8cb800f6b6c1",
     "prev": "d31ee0b4-3322-4e32-af77-39c76864454b",
     "regions": {
      "25f01432-966f-4168-8f47-3c1c749fc10c": {
       "attrs": {
        "height": 0.8,
        "width": 0.8,
        "x": 0.1,
        "y": 0.1
       },
       "content": {
        "cell": "110b87c0-5d6d-4264-8af5-c1ca32a9b4a6",
        "part": "whole"
       },
       "id": "25f01432-966f-4168-8f47-3c1c749fc10c"
      }
     }
    },
    "4da8cce7-d811-4951-843b-50b02385d7c9": {
     "id": "4da8cce7-d811-4951-843b-50b02385d7c9",
     "prev": "47a27598-8cf3-40eb-a553-9bdde0a92daf",
     "regions": {
      "e9b3b253-e86e-4910-8fc9-286900fdd7ca": {
       "attrs": {
        "height": 0.8,
        "width": 0.8,
        "x": 0.1,
        "y": 0.1
       },
       "content": {
        "cell": "35645b0a-5522-488c-b578-97c44f135d3e",
        "part": "whole"
       },
       "id": "e9b3b253-e86e-4910-8fc9-286900fdd7ca"
      }
     }
    },
    "4dbaa734-a98e-4b5b-94e2-a74e45f05675": {
     "id": "4dbaa734-a98e-4b5b-94e2-a74e45f05675",
     "prev": "b5b7e363-9d41-402e-a28f-836b4096fa04",
     "regions": {
      "85fce719-146d-444b-a448-4016b5287f3b": {
       "attrs": {
        "height": 0.8,
        "width": 0.8,
        "x": 0.1,
        "y": 0.1
       },
       "content": {
        "cell": "5e0dc55f-e789-4375-ba80-2bacee8a6b5c",
        "part": "whole"
       },
       "id": "85fce719-146d-444b-a448-4016b5287f3b"
      }
     }
    },
    "4eca9993-37a3-4d15-9b08-c7100598d67c": {
     "id": "4eca9993-37a3-4d15-9b08-c7100598d67c",
     "prev": "862034eb-eb4b-4c97-b608-3f65869fe0b4",
     "regions": {
      "2a33e4d5-cc87-4657-b479-98f7169ff081": {
       "attrs": {
        "height": 0.8,
        "width": 0.8,
        "x": 0.1,
        "y": 0.1
       },
       "content": {
        "cell": "e27bef65-0322-42e4-8d39-e3eef7b0cc8f",
        "part": "whole"
       },
       "id": "2a33e4d5-cc87-4657-b479-98f7169ff081"
      }
     }
    },
    "50026a3f-b71e-4fc8-9589-734f71162070": {
     "id": "50026a3f-b71e-4fc8-9589-734f71162070",
     "prev": "d0e0aeda-6b56-40e9-be6b-c4810b7013de",
     "regions": {
      "fe1098dc-529e-4ffc-9d85-90f9c9e2d9ae": {
       "attrs": {
        "height": 0.8,
        "width": 0.8,
        "x": 0.1,
        "y": 0.1
       },
       "content": {
        "cell": "fc075082-42a7-41a7-b10c-268bcc3cea4a",
        "part": "whole"
       },
       "id": "fe1098dc-529e-4ffc-9d85-90f9c9e2d9ae"
      }
     }
    },
    "513c3b16-3b64-4809-9280-38d93ae335ed": {
     "id": "513c3b16-3b64-4809-9280-38d93ae335ed",
     "prev": "aaf9f932-9c1e-45a8-9b5c-29e4ffec4f9a",
     "regions": {
      "02c24635-7915-47e8-b53f-56375848f428": {
       "attrs": {
        "height": 0.8,
        "width": 0.8,
        "x": 0.1,
        "y": 0.1
       },
       "content": {
        "cell": "ccfc8c14-5272-49d3-90a3-eb40252e26b8",
        "part": "whole"
       },
       "id": "02c24635-7915-47e8-b53f-56375848f428"
      }
     }
    },
    "51721c64-7b0c-4f76-8780-6b5d1fabd44a": {
     "id": "51721c64-7b0c-4f76-8780-6b5d1fabd44a",
     "prev": "bf3777c6-7829-4522-8cda-e1359ad8d56a",
     "regions": {
      "6b197428-facf-44cd-ad9e-8a417c082515": {
       "attrs": {
        "height": 0.8,
        "width": 0.8,
        "x": 0.1,
        "y": 0.1
       },
       "content": {
        "cell": "7e700a84-511b-41a9-b17d-b2a554c89a58",
        "part": "whole"
       },
       "id": "6b197428-facf-44cd-ad9e-8a417c082515"
      }
     }
    },
    "525e8c74-8119-41b6-a8c4-504b6438e577": {
     "id": "525e8c74-8119-41b6-a8c4-504b6438e577",
     "prev": "d7e87a90-5116-4469-a54d-7c2885c50682",
     "regions": {
      "99cc8d5c-e0ac-4683-8621-e326a57435c5": {
       "attrs": {
        "height": 0.8,
        "width": 0.8,
        "x": 0.1,
        "y": 0.1
       },
       "content": {
        "cell": "0684aea5-fd68-440e-92b9-e8f0f279afa2",
        "part": "whole"
       },
       "id": "99cc8d5c-e0ac-4683-8621-e326a57435c5"
      }
     }
    },
    "526fc251-4008-4273-8f8c-00407046bdab": {
     "id": "526fc251-4008-4273-8f8c-00407046bdab",
     "prev": "3b223317-b633-44b8-affe-d921f480e43d",
     "regions": {
      "a033789a-1148-44d8-8b2b-bef1d7d074e1": {
       "attrs": {
        "height": 0.8,
        "width": 0.8,
        "x": 0.1,
        "y": 0.1
       },
       "content": {
        "cell": "b593e372-1030-4454-a2ca-6d86e7fdadc3",
        "part": "whole"
       },
       "id": "a033789a-1148-44d8-8b2b-bef1d7d074e1"
      }
     }
    },
    "529a9eef-318b-40be-b797-06611e31e252": {
     "id": "529a9eef-318b-40be-b797-06611e31e252",
     "prev": "cca36f6e-8453-4d65-96e9-18d1e1dfbeb5",
     "regions": {
      "010e62dd-93c5-44b4-aaa7-f60b2b1d0c93": {
       "attrs": {
        "height": 0.8,
        "width": 0.8,
        "x": 0.1,
        "y": 0.1
       },
       "content": {
        "cell": "bfa7df02-dfd9-45ba-a45a-4056f6e9cad2",
        "part": "whole"
       },
       "id": "010e62dd-93c5-44b4-aaa7-f60b2b1d0c93"
      }
     }
    },
    "52c26c46-81f2-4abd-b49d-fa3663836e71": {
     "id": "52c26c46-81f2-4abd-b49d-fa3663836e71",
     "prev": "4a95a4c7-e17d-41d6-80e7-2cfdf1d6b2c3",
     "regions": {
      "bbd748c1-01f1-4447-9556-0afb4e1e7395": {
       "attrs": {
        "height": 0.8,
        "width": 0.8,
        "x": 0.1,
        "y": 0.1
       },
       "content": {
        "cell": "0852a9c3-0e55-4c0e-9407-2253e35d62dd",
        "part": "whole"
       },
       "id": "bbd748c1-01f1-4447-9556-0afb4e1e7395"
      }
     }
    },
    "52d29cf4-219b-40a5-9a1c-46383a1ff365": {
     "id": "52d29cf4-219b-40a5-9a1c-46383a1ff365",
     "prev": "c2568a4d-3e75-495e-9465-c877b091b2bd",
     "regions": {
      "88d97ec7-3dab-4833-b99e-fc8c1ea82232": {
       "attrs": {
        "height": 0.8,
        "width": 0.8,
        "x": 0.1,
        "y": 0.1
       },
       "content": {
        "cell": "86ad40d7-9b77-47d7-ba06-28497cb7a73c",
        "part": "whole"
       },
       "id": "88d97ec7-3dab-4833-b99e-fc8c1ea82232"
      }
     }
    },
    "52eef72c-d211-4804-9b77-ba08fcc1b231": {
     "id": "52eef72c-d211-4804-9b77-ba08fcc1b231",
     "prev": "f86ecf89-10d5-4bce-ba97-aaa95932a4ee",
     "regions": {
      "66c135a2-7e57-401b-a7a9-7b370998efa3": {
       "attrs": {
        "height": 0.8,
        "width": 0.8,
        "x": 0.1,
        "y": 0.1
       },
       "content": {
        "cell": "c70a69f4-ce63-416d-ae7c-aff896b19587",
        "part": "whole"
       },
       "id": "66c135a2-7e57-401b-a7a9-7b370998efa3"
      }
     }
    },
    "540bc833-6bfc-422d-b01b-119b69274d9f": {
     "id": "540bc833-6bfc-422d-b01b-119b69274d9f",
     "prev": "cd45a9d7-089e-4188-81fc-39a0fd0b850b",
     "regions": {
      "f2fe38f4-3523-42f1-8e4d-be9386c6c100": {
       "attrs": {
        "height": 0.8,
        "width": 0.8,
        "x": 0.1,
        "y": 0.1
       },
       "content": {
        "cell": "a1216756-56e0-4fdf-a25f-a3df57be821f",
        "part": "whole"
       },
       "id": "f2fe38f4-3523-42f1-8e4d-be9386c6c100"
      }
     }
    },
    "556e7541-9dd0-49b9-9285-315d06d5c825": {
     "id": "556e7541-9dd0-49b9-9285-315d06d5c825",
     "prev": "526fc251-4008-4273-8f8c-00407046bdab",
     "regions": {
      "ed3d04ee-a523-46e8-a4ad-4241a096ab2c": {
       "attrs": {
        "height": 0.8,
        "width": 0.8,
        "x": 0.1,
        "y": 0.1
       },
       "content": {
        "cell": "a8ee65d0-4fc5-418b-a116-d34987b0d725",
        "part": "whole"
       },
       "id": "ed3d04ee-a523-46e8-a4ad-4241a096ab2c"
      }
     }
    },
    "55cc9024-497e-4a41-adce-954b7c09185a": {
     "id": "55cc9024-497e-4a41-adce-954b7c09185a",
     "prev": "74c197c8-4de3-4b97-beb1-b5c49588722c",
     "regions": {
      "112c03fc-ad94-4007-a340-fac80a2eb1b0": {
       "attrs": {
        "height": 0.8,
        "width": 0.8,
        "x": 0.1,
        "y": 0.1
       },
       "content": {
        "cell": "a8e82701-4b5e-4f0a-83ce-41375eb58518",
        "part": "whole"
       },
       "id": "112c03fc-ad94-4007-a340-fac80a2eb1b0"
      }
     }
    },
    "581669e4-a18d-4576-8709-40cc045bb29d": {
     "id": "581669e4-a18d-4576-8709-40cc045bb29d",
     "prev": "ae66db2a-da7e-4492-af84-3ed24c4b9739",
     "regions": {
      "50997796-c572-4612-8756-2078eed73cf0": {
       "attrs": {
        "height": 0.8,
        "width": 0.8,
        "x": 0.1,
        "y": 0.1
       },
       "content": {
        "cell": "1a09353e-75a3-4dc3-b04b-e29f87dc00bb",
        "part": "whole"
       },
       "id": "50997796-c572-4612-8756-2078eed73cf0"
      }
     }
    },
    "5b3a43a9-8e77-4a35-8595-79e8ca6cbe4b": {
     "id": "5b3a43a9-8e77-4a35-8595-79e8ca6cbe4b",
     "prev": "d5ce2b61-eca9-4911-aa99-1cefdf688b8e",
     "regions": {
      "a189aba5-78f3-4afe-8438-55ca6f2b040f": {
       "attrs": {
        "height": 0.8,
        "width": 0.8,
        "x": 0.1,
        "y": 0.1
       },
       "content": {
        "cell": "831abfaa-7a9c-48fb-a109-cec4434ff02a",
        "part": "whole"
       },
       "id": "a189aba5-78f3-4afe-8438-55ca6f2b040f"
      }
     }
    },
    "5d1bb946-91e4-45b0-b139-b4be06047058": {
     "id": "5d1bb946-91e4-45b0-b139-b4be06047058",
     "prev": "556e7541-9dd0-49b9-9285-315d06d5c825",
     "regions": {
      "73782d14-18a3-4f2f-b890-032953e5035a": {
       "attrs": {
        "height": 0.8,
        "width": 0.8,
        "x": 0.1,
        "y": 0.1
       },
       "content": {
        "cell": "776acdbc-8f80-4f6a-a552-e14284f0b885",
        "part": "whole"
       },
       "id": "73782d14-18a3-4f2f-b890-032953e5035a"
      }
     }
    },
    "5de405bf-96cf-4937-9b46-4c9f226db050": {
     "id": "5de405bf-96cf-4937-9b46-4c9f226db050",
     "prev": "f0aef127-33bd-413c-bba1-007dd19e378a",
     "regions": {
      "80e8d174-de74-4b88-92d9-75abb0f1f1b1": {
       "attrs": {
        "height": 0.8,
        "width": 0.8,
        "x": 0.1,
        "y": 0.1
       },
       "content": {
        "cell": "113f5ce4-04cc-4a2f-abe2-d1c8be0df395",
        "part": "whole"
       },
       "id": "80e8d174-de74-4b88-92d9-75abb0f1f1b1"
      }
     }
    },
    "6036447d-41d6-4338-b595-7ad03079d430": {
     "id": "6036447d-41d6-4338-b595-7ad03079d430",
     "prev": "26999994-1a75-4dfe-9284-1e397a858327",
     "regions": {
      "b6d44e4d-db1f-4b8f-855a-82b8f2146390": {
       "attrs": {
        "height": 0.8,
        "width": 0.8,
        "x": 0.1,
        "y": 0.1
       },
       "content": {
        "cell": "a559d4da-55f9-43fc-8e34-c70558a72b93",
        "part": "whole"
       },
       "id": "b6d44e4d-db1f-4b8f-855a-82b8f2146390"
      }
     }
    },
    "621fbc35-9b48-4801-9372-c4f7464ae23d": {
     "id": "621fbc35-9b48-4801-9372-c4f7464ae23d",
     "prev": "75f006f3-71eb-42d6-b040-3bdcde3d0784",
     "regions": {
      "299c3e48-082c-4f0f-a585-0eb5d9e54922": {
       "attrs": {
        "height": 0.8,
        "width": 0.8,
        "x": 0.1,
        "y": 0.1
       },
       "content": {
        "cell": "608d4542-0ab1-4265-92ad-9e0377b44b33",
        "part": "whole"
       },
       "id": "299c3e48-082c-4f0f-a585-0eb5d9e54922"
      }
     }
    },
    "63625664-d393-47a0-a4bd-1c9393d8e7e3": {
     "id": "63625664-d393-47a0-a4bd-1c9393d8e7e3",
     "prev": "9cbd6cf0-e34d-46a5-a2f7-994e1b11ce51",
     "regions": {
      "a421a2c6-7d0c-4b05-80bf-7d86c42f2ea3": {
       "attrs": {
        "height": 0.8,
        "width": 0.8,
        "x": 0.1,
        "y": 0.1
       },
       "content": {
        "cell": "2f2d25b7-c85e-480e-ae94-4a6c7e36d099",
        "part": "whole"
       },
       "id": "a421a2c6-7d0c-4b05-80bf-7d86c42f2ea3"
      }
     }
    },
    "6388ae5f-94e8-45fa-8e7e-bcc1aeaff415": {
     "id": "6388ae5f-94e8-45fa-8e7e-bcc1aeaff415",
     "prev": "aadcbf14-fe6b-47e6-a3f6-01faa0016bb9",
     "regions": {
      "527b022f-9099-461a-a56d-a31cb0b0331a": {
       "attrs": {
        "height": 0.8,
        "width": 0.8,
        "x": 0.1,
        "y": 0.1
       },
       "content": {
        "cell": "6d5f0102-efad-4dc0-9b4a-c3ce77609cf4",
        "part": "whole"
       },
       "id": "527b022f-9099-461a-a56d-a31cb0b0331a"
      }
     }
    },
    "63bf7ef8-0a1b-4174-bbcb-fb7ff3292cdc": {
     "id": "63bf7ef8-0a1b-4174-bbcb-fb7ff3292cdc",
     "prev": "6388ae5f-94e8-45fa-8e7e-bcc1aeaff415",
     "regions": {
      "68e17eea-c9f4-4361-b959-cc787d61e73a": {
       "attrs": {
        "height": 0.8,
        "width": 0.8,
        "x": 0.1,
        "y": 0.1
       },
       "content": {
        "cell": "7e7405d6-ba24-4b21-8dfe-f22ef1c25429",
        "part": "whole"
       },
       "id": "68e17eea-c9f4-4361-b959-cc787d61e73a"
      }
     }
    },
    "644b6f35-e877-4ff0-a35f-249a1727a90c": {
     "id": "644b6f35-e877-4ff0-a35f-249a1727a90c",
     "prev": "7db93015-9e89-49d5-b75d-02e614b87a4c",
     "regions": {
      "0b305382-cc3b-4f57-8994-1aa77e2a2934": {
       "attrs": {
        "height": 0.8,
        "width": 0.8,
        "x": 0.1,
        "y": 0.1
       },
       "content": {
        "cell": "7e6b4c4a-a204-48e6-9fe6-667ef8029c8e",
        "part": "whole"
       },
       "id": "0b305382-cc3b-4f57-8994-1aa77e2a2934"
      }
     }
    },
    "648a5813-74ed-47a4-8805-462794086af6": {
     "id": "648a5813-74ed-47a4-8805-462794086af6",
     "prev": "f0b3f628-b80c-404d-82fc-388e791727dc",
     "regions": {
      "2215bfe2-2d70-4bfc-9e3d-1cb42c7f6842": {
       "attrs": {
        "height": 0.8,
        "width": 0.8,
        "x": 0.1,
        "y": 0.1
       },
       "content": {
        "cell": "f08a9143-e912-45b3-99b6-e1765464c414",
        "part": "whole"
       },
       "id": "2215bfe2-2d70-4bfc-9e3d-1cb42c7f6842"
      }
     }
    },
    "65a4c6ad-4d90-4d3c-8ab4-b4c6743cf3b3": {
     "id": "65a4c6ad-4d90-4d3c-8ab4-b4c6743cf3b3",
     "prev": "84ec624b-6ef7-4c6a-87df-f75093f09fa1",
     "regions": {
      "1078de21-fbd5-46df-b814-a10d7e1f7ebb": {
       "attrs": {
        "height": 0.8,
        "width": 0.8,
        "x": 0.1,
        "y": 0.1
       },
       "content": {
        "cell": "cedbab2c-8fda-4301-a455-5fdbe7f2b478",
        "part": "whole"
       },
       "id": "1078de21-fbd5-46df-b814-a10d7e1f7ebb"
      }
     }
    },
    "6bfbfed4-60db-4128-99dc-7f54e39faf3e": {
     "id": "6bfbfed4-60db-4128-99dc-7f54e39faf3e",
     "prev": "c21f6e59-c716-4c07-a03f-f7f4908cf3cd",
     "regions": {
      "f707626b-56be-46bd-8a54-55b749350791": {
       "attrs": {
        "height": 0.8,
        "width": 0.8,
        "x": 0.1,
        "y": 0.1
       },
       "content": {
        "cell": "22475dcc-8213-474d-a0bd-d1f9b13600d7",
        "part": "whole"
       },
       "id": "f707626b-56be-46bd-8a54-55b749350791"
      }
     }
    },
    "6d8046c2-d5bc-4f0c-a11a-d4cba1002a47": {
     "id": "6d8046c2-d5bc-4f0c-a11a-d4cba1002a47",
     "prev": "63bf7ef8-0a1b-4174-bbcb-fb7ff3292cdc",
     "regions": {
      "636c8e15-a663-488a-bfa5-7209046eae94": {
       "attrs": {
        "height": 0.8,
        "width": 0.8,
        "x": 0.1,
        "y": 0.1
       },
       "content": {
        "cell": "b427ab9b-18c7-42a2-ac6c-f1cd8f876710",
        "part": "whole"
       },
       "id": "636c8e15-a663-488a-bfa5-7209046eae94"
      }
     }
    },
    "74c197c8-4de3-4b97-beb1-b5c49588722c": {
     "id": "74c197c8-4de3-4b97-beb1-b5c49588722c",
     "prev": "4eca9993-37a3-4d15-9b08-c7100598d67c",
     "regions": {
      "e2533cdf-66fc-4e7d-8d1a-fbf14aaedd20": {
       "attrs": {
        "height": 0.8,
        "width": 0.8,
        "x": 0.1,
        "y": 0.1
       },
       "content": {
        "cell": "0a4917bf-4d8e-4906-8a39-98bd586baf9b",
        "part": "whole"
       },
       "id": "e2533cdf-66fc-4e7d-8d1a-fbf14aaedd20"
      }
     }
    },
    "75f006f3-71eb-42d6-b040-3bdcde3d0784": {
     "id": "75f006f3-71eb-42d6-b040-3bdcde3d0784",
     "prev": "a6beebfe-ad86-4cc5-ba8c-08d522968b19",
     "regions": {
      "c77e4113-56dd-426a-b35b-49e7afea591d": {
       "attrs": {
        "height": 0.8,
        "width": 0.8,
        "x": 0.1,
        "y": 0.1
       },
       "content": {
        "cell": "b6f5632f-f188-441d-860d-3c44247d8ce1",
        "part": "whole"
       },
       "id": "c77e4113-56dd-426a-b35b-49e7afea591d"
      }
     }
    },
    "762aa4c6-7a93-4cd5-a7d1-46cc58579211": {
     "id": "762aa4c6-7a93-4cd5-a7d1-46cc58579211",
     "prev": "14a5850c-fc8c-4975-9465-c44dfcff7302",
     "regions": {
      "7f19d804-1382-4225-8250-a5f4288fe29b": {
       "attrs": {
        "height": 0.8,
        "width": 0.8,
        "x": 0.1,
        "y": 0.1
       },
       "content": {
        "cell": "f910a41d-f418-4067-b8b5-fadd4d2152a8",
        "part": "whole"
       },
       "id": "7f19d804-1382-4225-8250-a5f4288fe29b"
      }
     }
    },
    "788b953b-f079-4010-ad0c-06fd280c0a6e": {
     "id": "788b953b-f079-4010-ad0c-06fd280c0a6e",
     "prev": "a523ac69-401c-45aa-a011-8457c25f02b8",
     "regions": {
      "70fd7dc8-82eb-47af-8fef-6d567436d1e2": {
       "attrs": {
        "height": 0.8,
        "width": 0.8,
        "x": 0.1,
        "y": 0.1
       },
       "content": {
        "cell": "8c1980b7-62d3-4157-9c62-1d1cb92b82f7",
        "part": "whole"
       },
       "id": "70fd7dc8-82eb-47af-8fef-6d567436d1e2"
      }
     }
    },
    "79d635b2-6e77-4187-914d-24c56b04db41": {
     "id": "79d635b2-6e77-4187-914d-24c56b04db41",
     "prev": "d4df49cd-b89f-40c1-bdd6-d268554ace49",
     "regions": {
      "b97ba164-7220-448b-8531-9139b0f7ea47": {
       "attrs": {
        "height": 0.8,
        "width": 0.8,
        "x": 0.1,
        "y": 0.1
       },
       "content": {
        "cell": "a9bfd384-267e-4fbf-a54b-7619c8912ed4",
        "part": "whole"
       },
       "id": "b97ba164-7220-448b-8531-9139b0f7ea47"
      }
     }
    },
    "7a0e15e9-1315-457d-a879-7f8a1f52661e": {
     "id": "7a0e15e9-1315-457d-a879-7f8a1f52661e",
     "prev": "49971249-8a22-49b8-8fc8-d050836acf2d",
     "regions": {
      "36bf13bc-6d89-430b-9c04-70f7fd976e99": {
       "attrs": {
        "height": 0.8,
        "width": 0.8,
        "x": 0.1,
        "y": 0.1
       },
       "content": {
        "cell": "55059003-6b57-4d3e-bde9-2770b6344fa5",
        "part": "whole"
       },
       "id": "36bf13bc-6d89-430b-9c04-70f7fd976e99"
      }
     }
    },
    "7d6dec6f-2e99-4542-9d6f-7370dc7f3cf0": {
     "id": "7d6dec6f-2e99-4542-9d6f-7370dc7f3cf0",
     "prev": "d7fadad9-08bc-4eea-b5db-ad95bef0dcb1",
     "regions": {
      "b29b3e6f-72b4-4f4f-94af-321bf60875e6": {
       "attrs": {
        "height": 0.8,
        "width": 0.8,
        "x": 0.1,
        "y": 0.1
       },
       "content": {
        "cell": "b5ebc7b3-7991-4626-bf79-ee27fb94d9db",
        "part": "whole"
       },
       "id": "b29b3e6f-72b4-4f4f-94af-321bf60875e6"
      }
     }
    },
    "7db93015-9e89-49d5-b75d-02e614b87a4c": {
     "id": "7db93015-9e89-49d5-b75d-02e614b87a4c",
     "prev": "23412e79-5ad3-40e9-82c7-0c0589633494",
     "regions": {
      "af60022c-e92d-438e-b304-e6f2f678c774": {
       "attrs": {
        "height": 0.8,
        "width": 0.8,
        "x": 0.1,
        "y": 0.1
       },
       "content": {
        "cell": "d16b514e-03ad-4df5-8e22-14256adabde5",
        "part": "whole"
       },
       "id": "af60022c-e92d-438e-b304-e6f2f678c774"
      }
     }
    },
    "81b76cb8-8c1d-46f4-8a48-a81be76018e7": {
     "id": "81b76cb8-8c1d-46f4-8a48-a81be76018e7",
     "prev": "7a0e15e9-1315-457d-a879-7f8a1f52661e",
     "regions": {
      "cf5c90b2-2c17-420b-ab99-41ad20adb37b": {
       "attrs": {
        "height": 0.8,
        "width": 0.8,
        "x": 0.1,
        "y": 0.1
       },
       "content": {
        "cell": "9199c4a2-0b8d-4e2e-9b46-7a5a4533dd18",
        "part": "whole"
       },
       "id": "cf5c90b2-2c17-420b-ab99-41ad20adb37b"
      }
     }
    },
    "849091d1-6b5c-46cc-b9bc-385a1194ad8c": {
     "id": "849091d1-6b5c-46cc-b9bc-385a1194ad8c",
     "prev": "9e007bcd-a1be-49b8-8025-bd46f7f15cf7",
     "regions": {
      "98c6f90d-6340-4bb3-a973-48635fbc20a2": {
       "attrs": {
        "height": 0.8,
        "width": 0.8,
        "x": 0.1,
        "y": 0.1
       },
       "content": {
        "cell": "240216f8-00e0-4571-a826-df8153c87154",
        "part": "whole"
       },
       "id": "98c6f90d-6340-4bb3-a973-48635fbc20a2"
      }
     }
    },
    "84ec624b-6ef7-4c6a-87df-f75093f09fa1": {
     "id": "84ec624b-6ef7-4c6a-87df-f75093f09fa1",
     "prev": "91c73e56-f3b6-4829-b504-84a90baae54b",
     "regions": {
      "527449bf-2064-466c-8b11-561a172b0692": {
       "attrs": {
        "height": 0.8,
        "width": 0.8,
        "x": 0.1,
        "y": 0.1
       },
       "content": {
        "cell": "aa3496ab-0ce4-43ee-9e04-67de99fa3b8d",
        "part": "whole"
       },
       "id": "527449bf-2064-466c-8b11-561a172b0692"
      }
     }
    },
    "862034eb-eb4b-4c97-b608-3f65869fe0b4": {
     "id": "862034eb-eb4b-4c97-b608-3f65869fe0b4",
     "prev": "48f04665-ce8f-46ec-8351-d7b0fc12a2ba",
     "regions": {
      "c1571986-26be-4019-8947-e935230986ea": {
       "attrs": {
        "height": 0.8,
        "width": 0.8,
        "x": 0.1,
        "y": 0.1
       },
       "content": {
        "cell": "c8d9d348-4b14-49f1-ad89-d8084294f5ba",
        "part": "whole"
       },
       "id": "c1571986-26be-4019-8947-e935230986ea"
      }
     }
    },
    "86721147-a6fd-4e8e-a22e-3bdd0a52044d": {
     "id": "86721147-a6fd-4e8e-a22e-3bdd0a52044d",
     "prev": "c8c66392-f5b2-4ddd-afdb-a7a485a91c1e",
     "regions": {
      "61f8c24e-bd2e-496d-93ce-9cb779a5c0e2": {
       "attrs": {
        "height": 0.8,
        "width": 0.8,
        "x": 0.1,
        "y": 0.1
       },
       "id": "61f8c24e-bd2e-496d-93ce-9cb779a5c0e2"
      }
     }
    },
    "86e02674-b935-4d08-95b3-84350c28c47f": {
     "id": "86e02674-b935-4d08-95b3-84350c28c47f",
     "prev": "529a9eef-318b-40be-b797-06611e31e252",
     "regions": {
      "fa783e5a-c12f-4a37-820b-16a78d361b6a": {
       "attrs": {
        "height": 0.8,
        "width": 0.8,
        "x": 0.1,
        "y": 0.1
       },
       "content": {
        "cell": "298a09fa-7405-4a52-a003-619dafa32cf5",
        "part": "whole"
       },
       "id": "fa783e5a-c12f-4a37-820b-16a78d361b6a"
      }
     }
    },
    "8938deb5-937f-4d07-a567-77d36cf46028": {
     "id": "8938deb5-937f-4d07-a567-77d36cf46028",
     "prev": "0ab2895c-557c-451c-988b-d4675f6effda",
     "regions": {
      "1c9747a3-6ad5-4b31-9f90-7b883b9741ff": {
       "attrs": {
        "height": 0.8,
        "width": 0.8,
        "x": 0.1,
        "y": 0.1
       },
       "content": {
        "cell": "7c9c5a34-adb5-4f2d-97a4-2faa8e58c994",
        "part": "whole"
       },
       "id": "1c9747a3-6ad5-4b31-9f90-7b883b9741ff"
      }
     }
    },
    "8ebd9355-b688-4497-95f5-b8df941ceb73": {
     "id": "8ebd9355-b688-4497-95f5-b8df941ceb73",
     "prev": "d579f2f6-b74b-4396-b17b-a999fe7210a7",
     "regions": {
      "fa7b3b1d-7fff-4580-ae27-bbe83ad48087": {
       "attrs": {
        "height": 0.8,
        "width": 0.8,
        "x": 0.1,
        "y": 0.1
       },
       "content": {
        "cell": "c9f9cc0d-25b9-4023-93a3-6c09c040f4ad",
        "part": "whole"
       },
       "id": "fa7b3b1d-7fff-4580-ae27-bbe83ad48087"
      }
     }
    },
    "8ff64301-f869-4c51-b1d4-1fead4cd4808": {
     "id": "8ff64301-f869-4c51-b1d4-1fead4cd4808",
     "prev": "0eedda11-464c-4536-9214-9eeae4342d7d",
     "regions": {
      "821fe5f8-5365-4c37-9f3a-aea645090677": {
       "attrs": {
        "height": 0.8,
        "width": 0.8,
        "x": 0.1,
        "y": 0.1
       },
       "content": {
        "cell": "8807b57a-c942-4f7b-bf17-891e48d830b2",
        "part": "whole"
       },
       "id": "821fe5f8-5365-4c37-9f3a-aea645090677"
      }
     }
    },
    "9006c8c5-2eb5-4cff-8f48-6667e8ff6886": {
     "id": "9006c8c5-2eb5-4cff-8f48-6667e8ff6886",
     "prev": "762aa4c6-7a93-4cd5-a7d1-46cc58579211",
     "regions": {
      "554623f7-5ecd-47f9-bb3e-70785ca7f670": {
       "attrs": {
        "height": 0.8,
        "width": 0.8,
        "x": 0.1,
        "y": 0.1
       },
       "content": {
        "cell": "c0e5d0b9-462f-4c04-8a85-47598780f61a",
        "part": "whole"
       },
       "id": "554623f7-5ecd-47f9-bb3e-70785ca7f670"
      }
     }
    },
    "907e06d7-b8b7-485a-b88f-f273a9355365": {
     "id": "907e06d7-b8b7-485a-b88f-f273a9355365",
     "prev": "2a083b6d-a795-4d93-8b95-bfc818016d22",
     "regions": {
      "cd413a19-12fc-4a72-8314-c185b2e08ded": {
       "attrs": {
        "height": 0.8,
        "width": 0.8,
        "x": 0.1,
        "y": 0.1
       },
       "content": {
        "cell": "b0236eae-c70d-4367-9594-856fa35117f5",
        "part": "whole"
       },
       "id": "cd413a19-12fc-4a72-8314-c185b2e08ded"
      }
     }
    },
    "90e789e4-ff2b-493c-9e1f-14488ef7b3cf": {
     "id": "90e789e4-ff2b-493c-9e1f-14488ef7b3cf",
     "prev": "c5dbe652-5bd8-43b4-8b53-96ed965a338f",
     "regions": {
      "c8d0c9a6-c709-42d4-b47e-0533cdda00cf": {
       "attrs": {
        "height": 0.8,
        "width": 0.8,
        "x": 0.1,
        "y": 0.1
       },
       "content": {
        "cell": "5868e338-f948-451e-b2e5-f60b8ef1d954",
        "part": "whole"
       },
       "id": "c8d0c9a6-c709-42d4-b47e-0533cdda00cf"
      }
     }
    },
    "911e2642-3f35-4f01-bca0-b8070a351ad7": {
     "id": "911e2642-3f35-4f01-bca0-b8070a351ad7",
     "prev": "357a008e-cfc6-4cf1-a536-012caa94bd7b",
     "regions": {
      "352bc527-f196-457d-a022-0276f0d1c1fe": {
       "attrs": {
        "height": 0.8,
        "width": 0.8,
        "x": 0.1,
        "y": 0.1
       },
       "content": {
        "cell": "db0d6154-9b8c-42a6-83e4-b05ada4b2e45",
        "part": "whole"
       },
       "id": "352bc527-f196-457d-a022-0276f0d1c1fe"
      }
     }
    },
    "91c73e56-f3b6-4829-b504-84a90baae54b": {
     "id": "91c73e56-f3b6-4829-b504-84a90baae54b",
     "prev": "94f66a06-07c8-498b-a18d-c5255b70275f",
     "regions": {
      "50e9b7a0-adf4-40ce-ba08-121c4302ccdd": {
       "attrs": {
        "height": 0.8,
        "width": 0.8,
        "x": 0.1,
        "y": 0.1
       },
       "content": {
        "cell": "521bc70e-c0f8-4a54-a7df-e8742a291c76",
        "part": "whole"
       },
       "id": "50e9b7a0-adf4-40ce-ba08-121c4302ccdd"
      }
     }
    },
    "93f40abe-c058-484f-83bf-92ed29b9d0b7": {
     "id": "93f40abe-c058-484f-83bf-92ed29b9d0b7",
     "prev": "2c16e09e-200a-4a99-8f7d-37d910754ea7",
     "regions": {
      "eee1a0ee-a349-4832-965a-8d97d6ec76f2": {
       "attrs": {
        "height": 0.8,
        "width": 0.8,
        "x": 0.1,
        "y": 0.1
       },
       "content": {
        "cell": "8e195f3a-c729-44bc-9679-1636b4eca251",
        "part": "whole"
       },
       "id": "eee1a0ee-a349-4832-965a-8d97d6ec76f2"
      }
     }
    },
    "94f66a06-07c8-498b-a18d-c5255b70275f": {
     "id": "94f66a06-07c8-498b-a18d-c5255b70275f",
     "prev": "581669e4-a18d-4576-8709-40cc045bb29d",
     "regions": {
      "820589c0-ce19-4603-b050-02ddd11d06fc": {
       "attrs": {
        "height": 0.8,
        "width": 0.8,
        "x": 0.1,
        "y": 0.1
       },
       "content": {
        "cell": "f9bf8877-45ca-4f48-9c07-4d9f4ff3deb9",
        "part": "whole"
       },
       "id": "820589c0-ce19-4603-b050-02ddd11d06fc"
      }
     }
    },
    "988b4e6d-28c5-4a7b-867f-b6737c68d553": {
     "id": "988b4e6d-28c5-4a7b-867f-b6737c68d553",
     "prev": "911e2642-3f35-4f01-bca0-b8070a351ad7",
     "regions": {
      "17ad34d7-9c34-41b1-9350-17b4b9ee4401": {
       "attrs": {
        "height": 0.8,
        "width": 0.8,
        "x": 0.1,
        "y": 0.1
       },
       "content": {
        "cell": "9ea6875c-9dcc-4974-87f0-deae66223289",
        "part": "whole"
       },
       "id": "17ad34d7-9c34-41b1-9350-17b4b9ee4401"
      }
     }
    },
    "9ab8d8b7-e3ea-4b97-b426-8f0e52411705": {
     "id": "9ab8d8b7-e3ea-4b97-b426-8f0e52411705",
     "prev": "b29a5bfc-b053-4f66-a574-147f6f620543",
     "regions": {
      "2a8f2394-5cf8-45df-b7fd-f39861d31f4d": {
       "attrs": {
        "height": 0.8,
        "width": 0.8,
        "x": 0.1,
        "y": 0.1
       },
       "content": {
        "cell": "a46ac47c-6eea-4752-8551-43dabd899d3c",
        "part": "whole"
       },
       "id": "2a8f2394-5cf8-45df-b7fd-f39861d31f4d"
      }
     }
    },
    "9cbd6cf0-e34d-46a5-a2f7-994e1b11ce51": {
     "id": "9cbd6cf0-e34d-46a5-a2f7-994e1b11ce51",
     "prev": "05590fd7-7417-467a-9ffb-be2062380e3f",
     "regions": {
      "3c17baea-5814-472a-9803-eb1c09bbc48d": {
       "attrs": {
        "height": 0.8,
        "width": 0.8,
        "x": 0.1,
        "y": 0.1
       },
       "content": {
        "cell": "787cdca8-99f4-41a5-8cae-fc7dd34c372c",
        "part": "whole"
       },
       "id": "3c17baea-5814-472a-9803-eb1c09bbc48d"
      }
     }
    },
    "9dde0146-453e-4015-b824-c88ea02a54ca": {
     "id": "9dde0146-453e-4015-b824-c88ea02a54ca",
     "prev": "492be23b-17fe-4c94-a4ac-9f6263a79d14",
     "regions": {
      "6b0be3f6-d897-4e62-a5f2-4376d70df1d7": {
       "attrs": {
        "height": 0.8,
        "width": 0.8,
        "x": 0.1,
        "y": 0.1
       },
       "content": {
        "cell": "ba9adb17-dfa7-4d36-9c72-bde8c7f4111e",
        "part": "whole"
       },
       "id": "6b0be3f6-d897-4e62-a5f2-4376d70df1d7"
      }
     }
    },
    "9e007bcd-a1be-49b8-8025-bd46f7f15cf7": {
     "id": "9e007bcd-a1be-49b8-8025-bd46f7f15cf7",
     "prev": "bb2eb1da-857b-4b02-88a7-4463b553ee9f",
     "regions": {
      "de435472-41b9-4980-a966-b397fd8e97cb": {
       "attrs": {
        "height": 0.8,
        "width": 0.8,
        "x": 0.1,
        "y": 0.1
       },
       "content": {
        "cell": "a565b943-313e-4544-8dbd-9f4c2feec3c6",
        "part": "whole"
       },
       "id": "de435472-41b9-4980-a966-b397fd8e97cb"
      }
     }
    },
    "9ed0488f-2a40-42e8-9f70-4888ee789ea9": {
     "id": "9ed0488f-2a40-42e8-9f70-4888ee789ea9",
     "prev": "cee89724-4840-486f-849f-a649618c5b01",
     "regions": {
      "f6723763-6350-4d37-b083-03fec1ce2b91": {
       "attrs": {
        "height": 0.8,
        "width": 0.8,
        "x": 0.1,
        "y": 0.1
       },
       "content": {
        "cell": "e5ebf83e-3c3a-488c-a3e1-cfba9f237f28",
        "part": "whole"
       },
       "id": "f6723763-6350-4d37-b083-03fec1ce2b91"
      }
     }
    },
    "9ee0100e-9e71-4204-82b2-8ce2a74c59de": {
     "id": "9ee0100e-9e71-4204-82b2-8ce2a74c59de",
     "prev": "cf3a022e-2b88-4936-b835-e46462152dd5",
     "regions": {
      "c4ea544b-97d8-483b-b534-1101f317ac9d": {
       "attrs": {
        "height": 0.8,
        "width": 0.8,
        "x": 0.1,
        "y": 0.1
       },
       "content": {
        "cell": "f61caee8-0d8a-4ed0-8f9b-f46fbb42265a",
        "part": "whole"
       },
       "id": "c4ea544b-97d8-483b-b534-1101f317ac9d"
      }
     }
    },
    "a13e81e1-4560-4751-9afb-11ecb2a66c49": {
     "id": "a13e81e1-4560-4751-9afb-11ecb2a66c49",
     "prev": "50026a3f-b71e-4fc8-9589-734f71162070",
     "regions": {
      "3de7c4c3-a686-4170-936e-e9a0d149204c": {
       "attrs": {
        "height": 0.8,
        "width": 0.8,
        "x": 0.1,
        "y": 0.1
       },
       "content": {
        "cell": "cfc27dea-b5af-4d72-a375-9c0533bdaa0b",
        "part": "whole"
       },
       "id": "3de7c4c3-a686-4170-936e-e9a0d149204c"
      }
     }
    },
    "a2854f74-0dbe-47f6-9971-d382c80a3473": {
     "id": "a2854f74-0dbe-47f6-9971-d382c80a3473",
     "prev": "249000a2-31be-4b0a-a7bf-41d6410a02b6",
     "regions": {
      "c44e9eb7-376f-4e38-adf3-8ef5bdd80487": {
       "attrs": {
        "height": 0.8,
        "width": 0.8,
        "x": 0.1,
        "y": 0.1
       },
       "content": {
        "cell": "b7d45069-898c-443c-93f7-5deee5cde26d",
        "part": "whole"
       },
       "id": "c44e9eb7-376f-4e38-adf3-8ef5bdd80487"
      }
     }
    },
    "a39b8023-227f-402c-b1c8-4d56da56cd34": {
     "id": "a39b8023-227f-402c-b1c8-4d56da56cd34",
     "prev": "c4d23b42-b8d7-4bfb-a10d-7bfa67248264",
     "regions": {
      "bc76e642-8f3f-4707-b705-11d281c2e1cc": {
       "attrs": {
        "height": 0.8,
        "width": 0.8,
        "x": 0.1,
        "y": 0.1
       },
       "content": {
        "cell": "99517f21-8cde-4b2f-a78d-a47348bfc7cb",
        "part": "whole"
       },
       "id": "bc76e642-8f3f-4707-b705-11d281c2e1cc"
      }
     }
    },
    "a523ac69-401c-45aa-a011-8457c25f02b8": {
     "id": "a523ac69-401c-45aa-a011-8457c25f02b8",
     "prev": "c7348e57-b819-4ec1-833f-ff292db8891a",
     "regions": {
      "5085aa77-6954-4554-89b9-9193359d290b": {
       "attrs": {
        "height": 0.8,
        "width": 0.8,
        "x": 0.1,
        "y": 0.1
       },
       "content": {
        "cell": "4ab06548-04fb-4227-88bd-067698ec9a51",
        "part": "whole"
       },
       "id": "5085aa77-6954-4554-89b9-9193359d290b"
      }
     }
    },
    "a528a39c-7925-4e08-b7a3-256c0899a2d6": {
     "id": "a528a39c-7925-4e08-b7a3-256c0899a2d6",
     "prev": "e5d4d613-818c-4231-b39d-2b4fce2d4da1",
     "regions": {
      "c75d86ae-7949-4191-a13a-8da2e1cdcfbb": {
       "attrs": {
        "height": 0.8,
        "width": 0.8,
        "x": 0.1,
        "y": 0.1
       },
       "content": {
        "cell": "5463adf8-8008-4045-b6d0-e15f1a3b3fed",
        "part": "whole"
       },
       "id": "c75d86ae-7949-4191-a13a-8da2e1cdcfbb"
      }
     }
    },
    "a66a4067-555f-4918-9a68-216d54a5fdca": {
     "id": "a66a4067-555f-4918-9a68-216d54a5fdca",
     "prev": "6d8046c2-d5bc-4f0c-a11a-d4cba1002a47",
     "regions": {
      "674b1009-36c4-4eaa-acd0-2d887516dfa4": {
       "attrs": {
        "height": 0.8,
        "width": 0.8,
        "x": 0.1,
        "y": 0.1
       },
       "content": {
        "cell": "300be362-e9b0-4486-bcf8-444ae3ecf672",
        "part": "whole"
       },
       "id": "674b1009-36c4-4eaa-acd0-2d887516dfa4"
      }
     }
    },
    "a6beebfe-ad86-4cc5-ba8c-08d522968b19": {
     "id": "a6beebfe-ad86-4cc5-ba8c-08d522968b19",
     "prev": "00a595d1-e383-4f02-a60c-c78ae555abd5",
     "regions": {
      "6bb39b10-85df-4072-a676-43b81ea40b69": {
       "attrs": {
        "height": 0.8,
        "width": 0.8,
        "x": 0.1,
        "y": 0.1
       },
       "content": {
        "cell": "604ab7b9-5068-4bab-b546-e9bc0b1f4027",
        "part": "whole"
       },
       "id": "6bb39b10-85df-4072-a676-43b81ea40b69"
      }
     }
    },
    "a8903df8-64ba-48b3-96c0-63f489e721b5": {
     "id": "a8903df8-64ba-48b3-96c0-63f489e721b5",
     "prev": "2259f98a-e16a-4e23-8b3e-4e95e6a30790",
     "regions": {
      "383cf2f4-4fa3-422a-a1a8-cbed22bdb88c": {
       "attrs": {
        "height": 0.8,
        "width": 0.8,
        "x": 0.1,
        "y": 0.1
       },
       "content": {
        "cell": "eed1f152-c1b1-49b1-b05a-9aa578918420",
        "part": "whole"
       },
       "id": "383cf2f4-4fa3-422a-a1a8-cbed22bdb88c"
      }
     }
    },
    "aadcbf14-fe6b-47e6-a3f6-01faa0016bb9": {
     "id": "aadcbf14-fe6b-47e6-a3f6-01faa0016bb9",
     "prev": "2efc36a6-9b76-4690-acca-0ae7ab13b00a",
     "regions": {
      "fb57b5f9-f6d2-48fb-a9b8-7017e723b206": {
       "attrs": {
        "height": 0.8,
        "width": 0.8,
        "x": 0.1,
        "y": 0.1
       },
       "content": {
        "cell": "01f2a8ea-9ef4-4e01-9a0b-8852687403c5",
        "part": "whole"
       },
       "id": "fb57b5f9-f6d2-48fb-a9b8-7017e723b206"
      }
     }
    },
    "aaf9f932-9c1e-45a8-9b5c-29e4ffec4f9a": {
     "id": "aaf9f932-9c1e-45a8-9b5c-29e4ffec4f9a",
     "prev": "cbd9ce87-fc1d-4ebc-8a77-2a9f57a10eaf",
     "regions": {
      "7873592a-e466-43b7-8dda-7862450306d7": {
       "attrs": {
        "height": 0.8,
        "width": 0.8,
        "x": 0.1,
        "y": 0.1
       },
       "content": {
        "cell": "9e817d6b-fa55-4a9f-8517-2d6b5310e070",
        "part": "whole"
       },
       "id": "7873592a-e466-43b7-8dda-7862450306d7"
      }
     }
    },
    "acce5427-f296-4dea-a7d4-bc371492e628": {
     "id": "acce5427-f296-4dea-a7d4-bc371492e628",
     "prev": "55cc9024-497e-4a41-adce-954b7c09185a",
     "regions": {
      "65fbdcf8-522c-486d-aaf8-8b09da7f18fd": {
       "attrs": {
        "height": 0.8,
        "width": 0.8,
        "x": 0.1,
        "y": 0.1
       },
       "content": {
        "cell": "877d32e6-5a58-49aa-96a4-67a4c023fef4",
        "part": "whole"
       },
       "id": "65fbdcf8-522c-486d-aaf8-8b09da7f18fd"
      }
     }
    },
    "ae66db2a-da7e-4492-af84-3ed24c4b9739": {
     "id": "ae66db2a-da7e-4492-af84-3ed24c4b9739",
     "prev": "f376710b-7834-4470-89c2-de86126539f5",
     "regions": {
      "39c2d624-0d5f-4351-b810-b836a1696c99": {
       "attrs": {
        "height": 0.8,
        "width": 0.8,
        "x": 0.1,
        "y": 0.1
       },
       "content": {
        "cell": "1c2d358b-4c3e-42c3-86ac-b5a985394b64",
        "part": "whole"
       },
       "id": "39c2d624-0d5f-4351-b810-b836a1696c99"
      }
     }
    },
    "aff40095-6474-41d7-af76-65c3734a6d2c": {
     "id": "aff40095-6474-41d7-af76-65c3734a6d2c",
     "prev": "e333f16e-fc6e-4c7a-90a0-98d4e5e2601a",
     "regions": {
      "8fffa818-217f-48a3-8fa3-433898c03a78": {
       "attrs": {
        "height": 0.8,
        "width": 0.8,
        "x": 0.1,
        "y": 0.1
       },
       "content": {
        "cell": "f06c50b0-06b7-4be5-9b0e-096c5f59c18d",
        "part": "whole"
       },
       "id": "8fffa818-217f-48a3-8fa3-433898c03a78"
      }
     }
    },
    "b29a5bfc-b053-4f66-a574-147f6f620543": {
     "id": "b29a5bfc-b053-4f66-a574-147f6f620543",
     "prev": "e359f4d9-9f7b-4071-901a-5890657e80fc",
     "regions": {
      "4d32226b-34cc-4f67-b220-f4b194056359": {
       "attrs": {
        "height": 0.8,
        "width": 0.8,
        "x": 0.1,
        "y": 0.1
       },
       "content": {
        "cell": "f82808fb-c472-4cef-93ac-e60208581fa3",
        "part": "whole"
       },
       "id": "4d32226b-34cc-4f67-b220-f4b194056359"
      }
     }
    },
    "b5b7e363-9d41-402e-a28f-836b4096fa04": {
     "id": "b5b7e363-9d41-402e-a28f-836b4096fa04",
     "prev": "38e530e2-2d82-4ade-9bd6-0f605726b965",
     "regions": {
      "0962575d-83bb-493b-9dce-927719088bba": {
       "attrs": {
        "height": 0.8,
        "width": 0.8,
        "x": 0.1,
        "y": 0.1
       },
       "content": {
        "cell": "bbaf7dce-073d-4430-bde9-8992c1b1eb45",
        "part": "whole"
       },
       "id": "0962575d-83bb-493b-9dce-927719088bba"
      }
     }
    },
    "b70a1a36-f156-48aa-b574-5df1a330d9ac": {
     "id": "b70a1a36-f156-48aa-b574-5df1a330d9ac",
     "prev": "aff40095-6474-41d7-af76-65c3734a6d2c",
     "regions": {
      "ccf85a5d-b32e-4caa-932d-d2ff31f1af7b": {
       "attrs": {
        "height": 0.8,
        "width": 0.8,
        "x": 0.1,
        "y": 0.1
       },
       "content": {
        "cell": "1672d079-4a11-4e00-95a1-125b86ecc460",
        "part": "whole"
       },
       "id": "ccf85a5d-b32e-4caa-932d-d2ff31f1af7b"
      }
     }
    },
    "b87f09ef-857c-41d1-876a-d6b917ff37fe": {
     "id": "b87f09ef-857c-41d1-876a-d6b917ff37fe",
     "prev": "1f403fb6-ac52-44e7-8ac3-3669a690174f",
     "regions": {
      "c1f28534-7c6d-4a94-9aea-823b8a13755e": {
       "attrs": {
        "height": 0.8,
        "width": 0.8,
        "x": 0.1,
        "y": 0.1
       },
       "content": {
        "cell": "2be9960c-61f9-4abc-9331-7e2038b1bdb9",
        "part": "whole"
       },
       "id": "c1f28534-7c6d-4a94-9aea-823b8a13755e"
      }
     }
    },
    "b8839116-f668-44ac-9d87-df4962cf5e0b": {
     "id": "b8839116-f668-44ac-9d87-df4962cf5e0b",
     "prev": "a66a4067-555f-4918-9a68-216d54a5fdca",
     "regions": {
      "f21ab175-8cff-4852-ace7-ba1699be9cb5": {
       "attrs": {
        "height": 0.8,
        "width": 0.8,
        "x": 0.1,
        "y": 0.1
       },
       "content": {
        "cell": "83d3addc-c9e0-4bf2-8afc-36bfe0546488",
        "part": "whole"
       },
       "id": "f21ab175-8cff-4852-ace7-ba1699be9cb5"
      }
     }
    },
    "b9afa5a1-aae2-4433-bb3a-9863bd521c30": {
     "id": "b9afa5a1-aae2-4433-bb3a-9863bd521c30",
     "prev": "f314770b-1c33-48be-8c7d-d9232296116a",
     "regions": {
      "59b983bf-23a3-46f6-a50a-839e2e2f6b07": {
       "attrs": {
        "height": 0.8,
        "width": 0.8,
        "x": 0.1,
        "y": 0.1
       },
       "content": {
        "cell": "af72e358-1ff4-4c71-822e-c5784e98fa3e",
        "part": "whole"
       },
       "id": "59b983bf-23a3-46f6-a50a-839e2e2f6b07"
      }
     }
    },
    "bb2eb1da-857b-4b02-88a7-4463b553ee9f": {
     "id": "bb2eb1da-857b-4b02-88a7-4463b553ee9f",
     "prev": "5b3a43a9-8e77-4a35-8595-79e8ca6cbe4b",
     "regions": {
      "011a1958-9fb5-4b50-9322-8e64d59f506c": {
       "attrs": {
        "height": 0.8,
        "width": 0.8,
        "x": 0.1,
        "y": 0.1
       },
       "content": {
        "cell": "df979650-aa3e-4ead-bec8-925e982c9f0c",
        "part": "whole"
       },
       "id": "011a1958-9fb5-4b50-9322-8e64d59f506c"
      }
     }
    },
    "be93b78b-2a2e-43a4-bb2c-636f11592c50": {
     "id": "be93b78b-2a2e-43a4-bb2c-636f11592c50",
     "prev": "52d29cf4-219b-40a5-9a1c-46383a1ff365",
     "regions": {
      "e782abaf-46d9-4e6f-85ce-a56c50bd5d5d": {
       "attrs": {
        "height": 0.8,
        "width": 0.8,
        "x": 0.1,
        "y": 0.1
       },
       "content": {
        "cell": "f5607a79-a38d-4a10-be51-6a54de9293d2",
        "part": "whole"
       },
       "id": "e782abaf-46d9-4e6f-85ce-a56c50bd5d5d"
      }
     }
    },
    "bf3777c6-7829-4522-8cda-e1359ad8d56a": {
     "id": "bf3777c6-7829-4522-8cda-e1359ad8d56a",
     "prev": "513c3b16-3b64-4809-9280-38d93ae335ed",
     "regions": {
      "7c77aad3-32b9-4086-a6b2-28bbbeb76d68": {
       "attrs": {
        "height": 0.8,
        "width": 0.8,
        "x": 0.1,
        "y": 0.1
       },
       "content": {
        "cell": "2b8554c2-272c-4f31-b9fb-24bf7c4f8232",
        "part": "whole"
       },
       "id": "7c77aad3-32b9-4086-a6b2-28bbbeb76d68"
      }
     }
    },
    "c21f6e59-c716-4c07-a03f-f7f4908cf3cd": {
     "id": "c21f6e59-c716-4c07-a03f-f7f4908cf3cd",
     "prev": "9dde0146-453e-4015-b824-c88ea02a54ca",
     "regions": {
      "f66a146e-787f-4a7f-8e1b-457a847d556b": {
       "attrs": {
        "height": 0.8,
        "width": 0.8,
        "x": 0.1,
        "y": 0.1
       },
       "content": {
        "cell": "2170e927-4744-4df6-910a-234951413605",
        "part": "whole"
       },
       "id": "f66a146e-787f-4a7f-8e1b-457a847d556b"
      }
     }
    },
    "c2568a4d-3e75-495e-9465-c877b091b2bd": {
     "id": "c2568a4d-3e75-495e-9465-c877b091b2bd",
     "prev": "180006f2-b175-4e22-8491-b59201846ab9",
     "regions": {
      "519b8a15-b424-40c7-9ad1-d12a4925d9ba": {
       "attrs": {
        "height": 0.8,
        "width": 0.8,
        "x": 0.1,
        "y": 0.1
       },
       "content": {
        "cell": "5da8724e-ffc4-4716-91eb-4f0f76e499c7",
        "part": "whole"
       },
       "id": "519b8a15-b424-40c7-9ad1-d12a4925d9ba"
      }
     }
    },
    "c4d23b42-b8d7-4bfb-a10d-7bfa67248264": {
     "id": "c4d23b42-b8d7-4bfb-a10d-7bfa67248264",
     "prev": "24611839-58f0-4531-93c9-65d6d880c25b",
     "regions": {
      "c229044b-0e54-40c3-bafb-d85d0383fe23": {
       "attrs": {
        "height": 0.8,
        "width": 0.8,
        "x": 0.1,
        "y": 0.1
       },
       "content": {
        "cell": "5042ee04-c06f-4de4-9bf1-6311347e1fd6",
        "part": "whole"
       },
       "id": "c229044b-0e54-40c3-bafb-d85d0383fe23"
      }
     }
    },
    "c5dbe652-5bd8-43b4-8b53-96ed965a338f": {
     "id": "c5dbe652-5bd8-43b4-8b53-96ed965a338f",
     "prev": "20f8c0ec-472c-4a2f-9c11-daf84e590153",
     "regions": {
      "817ead14-3d61-40f6-9870-af56709f6604": {
       "attrs": {
        "height": 0.8,
        "width": 0.8,
        "x": 0.1,
        "y": 0.1
       },
       "content": {
        "cell": "d0b35a04-db6b-48ca-b654-3fa17545f577",
        "part": "whole"
       },
       "id": "817ead14-3d61-40f6-9870-af56709f6604"
      }
     }
    },
    "c60296d8-f32e-4c6e-b73f-e5bf7ea771cf": {
     "id": "c60296d8-f32e-4c6e-b73f-e5bf7ea771cf",
     "prev": "d5c3f7b7-cb1a-45e4-80d4-5e7f2aec46e1",
     "regions": {
      "3d056695-5cbb-47b0-8c26-26f4c1c8ef17": {
       "attrs": {
        "height": 0.8,
        "width": 0.8,
        "x": 0.1,
        "y": 0.1
       },
       "content": {
        "cell": "e9adf871-237f-441d-b337-6c8a19f70b32",
        "part": "whole"
       },
       "id": "3d056695-5cbb-47b0-8c26-26f4c1c8ef17"
      }
     }
    },
    "c7348e57-b819-4ec1-833f-ff292db8891a": {
     "id": "c7348e57-b819-4ec1-833f-ff292db8891a",
     "prev": "271d1254-fdf3-4380-8e97-a672e47f16a6",
     "regions": {
      "eb543585-9690-4214-b510-6e0dc5785380": {
       "attrs": {
        "height": 0.8,
        "width": 0.8,
        "x": 0.1,
        "y": 0.1
       },
       "content": {
        "cell": "6ef9fd88-a3b2-4cf5-811c-28fa4435bb3d",
        "part": "whole"
       },
       "id": "eb543585-9690-4214-b510-6e0dc5785380"
      }
     }
    },
    "c8c66392-f5b2-4ddd-afdb-a7a485a91c1e": {
     "id": "c8c66392-f5b2-4ddd-afdb-a7a485a91c1e",
     "prev": "be93b78b-2a2e-43a4-bb2c-636f11592c50",
     "regions": {
      "fb937ab7-26dd-47a8-8918-c8fbecee6ec5": {
       "attrs": {
        "height": 0.8,
        "width": 0.8,
        "x": 0.1,
        "y": 0.1
       },
       "content": {
        "cell": "c6a45b1f-3cdc-41cc-b094-e5bd1e166804",
        "part": "whole"
       },
       "id": "fb937ab7-26dd-47a8-8918-c8fbecee6ec5"
      }
     }
    },
    "ca98dd64-fe1c-46bc-b4dd-d4245f4c227a": {
     "id": "ca98dd64-fe1c-46bc-b4dd-d4245f4c227a",
     "prev": "5d1bb946-91e4-45b0-b139-b4be06047058",
     "regions": {
      "933bb029-bfbd-49b4-a8fa-bbd8e0acaf5e": {
       "attrs": {
        "height": 0.8,
        "width": 0.8,
        "x": 0.1,
        "y": 0.1
       },
       "content": {
        "cell": "ceaea56d-fa3e-48ea-8054-601a201f8296",
        "part": "whole"
       },
       "id": "933bb029-bfbd-49b4-a8fa-bbd8e0acaf5e"
      }
     }
    },
    "cbd9ce87-fc1d-4ebc-8a77-2a9f57a10eaf": {
     "id": "cbd9ce87-fc1d-4ebc-8a77-2a9f57a10eaf",
     "prev": "f0625468-ea6e-4051-8e94-840c5c6941da",
     "regions": {
      "49c6e3b2-2aaf-4e85-ac3d-c485483c9962": {
       "attrs": {
        "height": 0.8,
        "width": 0.8,
        "x": 0.1,
        "y": 0.1
       },
       "content": {
        "cell": "73101b14-5f38-4c0d-847d-f7c0ba9b3512",
        "part": "whole"
       },
       "id": "49c6e3b2-2aaf-4e85-ac3d-c485483c9962"
      }
     }
    },
    "cca36f6e-8453-4d65-96e9-18d1e1dfbeb5": {
     "id": "cca36f6e-8453-4d65-96e9-18d1e1dfbeb5",
     "prev": "63625664-d393-47a0-a4bd-1c9393d8e7e3",
     "regions": {
      "3ec211d2-7738-4d0b-9ead-b195f8124559": {
       "attrs": {
        "height": 0.8,
        "width": 0.8,
        "x": 0.1,
        "y": 0.1
       },
       "content": {
        "cell": "0ff8b39e-53b4-4b27-892f-d3d68ca0da05",
        "part": "whole"
       },
       "id": "3ec211d2-7738-4d0b-9ead-b195f8124559"
      }
     }
    },
    "cd45a9d7-089e-4188-81fc-39a0fd0b850b": {
     "id": "cd45a9d7-089e-4188-81fc-39a0fd0b850b",
     "prev": "0f6e86e7-2c94-43ff-b8a7-d776ba35f646",
     "regions": {
      "29146621-550d-4d4c-ab78-28f27a9c2fbb": {
       "attrs": {
        "height": 0.8,
        "width": 0.8,
        "x": 0.1,
        "y": 0.1
       },
       "content": {
        "cell": "b21e5035-7e16-44ae-8347-7cd5d15860e0",
        "part": "whole"
       },
       "id": "29146621-550d-4d4c-ab78-28f27a9c2fbb"
      }
     }
    },
    "cdd5ccc3-a38f-4104-a8ff-e92f5926862b": {
     "id": "cdd5ccc3-a38f-4104-a8ff-e92f5926862b",
     "prev": "3604b52a-7c99-4faf-950f-cb42136a0a81",
     "regions": {
      "fa392bbe-adf5-4fab-9bcb-816b0f8fa277": {
       "attrs": {
        "height": 0.8,
        "width": 0.8,
        "x": 0.1,
        "y": 0.1
       },
       "content": {
        "cell": "3f7dba03-9596-4d06-a954-7e82dd6f5777",
        "part": "whole"
       },
       "id": "fa392bbe-adf5-4fab-9bcb-816b0f8fa277"
      }
     }
    },
    "ceaf712e-34e6-4f5b-bdad-8fb805a4ba02": {
     "id": "ceaf712e-34e6-4f5b-bdad-8fb805a4ba02",
     "prev": "1ee9ea55-3152-4a13-8081-9acdb8874f95",
     "regions": {
      "65242f24-b6d1-4690-a65c-311ca37ee44c": {
       "attrs": {
        "height": 0.8,
        "width": 0.8,
        "x": 0.1,
        "y": 0.1
       },
       "content": {
        "cell": "5221a402-b62d-4390-a79b-c971191e11cd",
        "part": "whole"
       },
       "id": "65242f24-b6d1-4690-a65c-311ca37ee44c"
      }
     }
    },
    "cee89724-4840-486f-849f-a649618c5b01": {
     "id": "cee89724-4840-486f-849f-a649618c5b01",
     "prev": "52c26c46-81f2-4abd-b49d-fa3663836e71",
     "regions": {
      "67197f6e-972f-4378-93e6-b4853744140e": {
       "attrs": {
        "height": 0.8,
        "width": 0.8,
        "x": 0.1,
        "y": 0.1
       },
       "content": {
        "cell": "1497ce28-68a3-42e2-adbe-f1c94c7fa5df",
        "part": "whole"
       },
       "id": "67197f6e-972f-4378-93e6-b4853744140e"
      }
     }
    },
    "cf3a022e-2b88-4936-b835-e46462152dd5": {
     "id": "cf3a022e-2b88-4936-b835-e46462152dd5",
     "prev": "788b953b-f079-4010-ad0c-06fd280c0a6e",
     "regions": {
      "3440db7d-7a26-471e-a175-2c35a58a2663": {
       "attrs": {
        "height": 0.8,
        "width": 0.8,
        "x": 0.1,
        "y": 0.1
       },
       "content": {
        "cell": "8e7a4c7a-92ce-49bb-aa9e-51d652b893c2",
        "part": "whole"
       },
       "id": "3440db7d-7a26-471e-a175-2c35a58a2663"
      }
     }
    },
    "d08902a0-b0a6-48be-b31a-6e0dad800370": {
     "id": "d08902a0-b0a6-48be-b31a-6e0dad800370",
     "prev": "15db1685-a05b-4329-9d68-0192bbb6861b",
     "regions": {
      "1d8a73ef-18f5-4755-b99f-e04d08fa08f1": {
       "attrs": {
        "height": 0.8,
        "width": 0.8,
        "x": 0.1,
        "y": 0.1
       },
       "content": {
        "cell": "5002ac75-5c5b-49c5-9e21-a1fd8e34158e",
        "part": "whole"
       },
       "id": "1d8a73ef-18f5-4755-b99f-e04d08fa08f1"
      }
     }
    },
    "d0a4cb2d-3ca7-453b-b948-34414357c1c9": {
     "id": "d0a4cb2d-3ca7-453b-b948-34414357c1c9",
     "prev": "d76e3916-dc3d-44e7-a8b9-a180dbe59291",
     "regions": {
      "034491a8-79c2-4a2d-94d1-41d79ea0a03c": {
       "attrs": {
        "height": 0.8,
        "width": 0.8,
        "x": 0.1,
        "y": 0.1
       },
       "content": {
        "cell": "b9697184-5575-4503-9231-fdcb5e437b00",
        "part": "whole"
       },
       "id": "034491a8-79c2-4a2d-94d1-41d79ea0a03c"
      }
     }
    },
    "d0e0aeda-6b56-40e9-be6b-c4810b7013de": {
     "id": "d0e0aeda-6b56-40e9-be6b-c4810b7013de",
     "prev": "540bc833-6bfc-422d-b01b-119b69274d9f",
     "regions": {
      "18e03e5e-f4c3-4a92-a32c-d0ebd46a7ca4": {
       "attrs": {
        "height": 0.8,
        "width": 0.8,
        "x": 0.1,
        "y": 0.1
       },
       "content": {
        "cell": "7a13dc45-2dfb-4b5d-9caf-b61a11ca063f",
        "part": "whole"
       },
       "id": "18e03e5e-f4c3-4a92-a32c-d0ebd46a7ca4"
      }
     }
    },
    "d1322bbc-768b-4d8f-a2be-aad9269bb38b": {
     "id": "d1322bbc-768b-4d8f-a2be-aad9269bb38b",
     "prev": "12638b19-1cd9-450f-8bd4-fab8b2b06b92",
     "regions": {
      "f6dfb8fa-4299-4ee5-8472-d0883781b0c8": {
       "attrs": {
        "height": 0.8,
        "width": 0.8,
        "x": 0.1,
        "y": 0.1
       },
       "content": {
        "cell": "d43ab037-6696-44f3-91c3-c1ca47d73331",
        "part": "whole"
       },
       "id": "f6dfb8fa-4299-4ee5-8472-d0883781b0c8"
      }
     }
    },
    "d1fcd84c-b066-4e34-ae59-47cc3b3e0cf2": {
     "id": "d1fcd84c-b066-4e34-ae59-47cc3b3e0cf2",
     "prev": "ceaf712e-34e6-4f5b-bdad-8fb805a4ba02",
     "regions": {
      "02426314-726f-464d-9db3-fce8f52d43b1": {
       "attrs": {
        "height": 0.8,
        "width": 0.8,
        "x": 0.1,
        "y": 0.1
       },
       "content": {
        "cell": "8c3a273d-a629-4011-9ace-874fd349f20a",
        "part": "whole"
       },
       "id": "02426314-726f-464d-9db3-fce8f52d43b1"
      }
     }
    },
    "d31ee0b4-3322-4e32-af77-39c76864454b": {
     "id": "d31ee0b4-3322-4e32-af77-39c76864454b",
     "prev": "849091d1-6b5c-46cc-b9bc-385a1194ad8c",
     "regions": {
      "00a873b2-a472-4886-b84d-79a76e16a7e4": {
       "attrs": {
        "height": 0.8,
        "width": 0.8,
        "x": 0.1,
        "y": 0.1
       },
       "content": {
        "cell": "4bf045e6-3451-492b-a359-6af10c2c85a6",
        "part": "whole"
       },
       "id": "00a873b2-a472-4886-b84d-79a76e16a7e4"
      }
     }
    },
    "d4df49cd-b89f-40c1-bdd6-d268554ace49": {
     "id": "d4df49cd-b89f-40c1-bdd6-d268554ace49",
     "prev": "b8839116-f668-44ac-9d87-df4962cf5e0b",
     "regions": {
      "f98d3cce-4d97-49a5-882b-f4f7549f94c6": {
       "attrs": {
        "height": 0.8,
        "width": 0.8,
        "x": 0.1,
        "y": 0.1
       },
       "content": {
        "cell": "0a62a025-b395-4814-b71a-bc4ffbd52bc4",
        "part": "whole"
       },
       "id": "f98d3cce-4d97-49a5-882b-f4f7549f94c6"
      }
     }
    },
    "d579f2f6-b74b-4396-b17b-a999fe7210a7": {
     "id": "d579f2f6-b74b-4396-b17b-a999fe7210a7",
     "prev": "f35d61a3-a461-4a5e-9587-20d7c216eaf1",
     "regions": {
      "a85fd6e2-bd84-49fb-ae5e-7c1bee28fcac": {
       "attrs": {
        "height": 0.8,
        "width": 0.8,
        "x": 0.1,
        "y": 0.1
       },
       "content": {
        "cell": "ab7a8e34-901f-4aca-a7fc-bf1e518038e4",
        "part": "whole"
       },
       "id": "a85fd6e2-bd84-49fb-ae5e-7c1bee28fcac"
      }
     }
    },
    "d5c3f7b7-cb1a-45e4-80d4-5e7f2aec46e1": {
     "id": "d5c3f7b7-cb1a-45e4-80d4-5e7f2aec46e1",
     "prev": "a13e81e1-4560-4751-9afb-11ecb2a66c49",
     "regions": {
      "a1825937-7b34-4681-a16c-e0fde8ce0ed7": {
       "attrs": {
        "height": 0.8,
        "width": 0.8,
        "x": 0.1,
        "y": 0.1
       },
       "content": {
        "cell": "ffdcfe15-3551-444d-8577-d11dc4682b29",
        "part": "whole"
       },
       "id": "a1825937-7b34-4681-a16c-e0fde8ce0ed7"
      }
     }
    },
    "d5ce2b61-eca9-4911-aa99-1cefdf688b8e": {
     "id": "d5ce2b61-eca9-4911-aa99-1cefdf688b8e",
     "prev": "6bfbfed4-60db-4128-99dc-7f54e39faf3e",
     "regions": {
      "b77c5974-a877-47bd-901a-f55169f5fbad": {
       "attrs": {
        "height": 0.8,
        "width": 0.8,
        "x": 0.1,
        "y": 0.1
       },
       "content": {
        "cell": "eb1c7295-406c-4111-8d69-ab3a64994784",
        "part": "whole"
       },
       "id": "b77c5974-a877-47bd-901a-f55169f5fbad"
      }
     }
    },
    "d76e3916-dc3d-44e7-a8b9-a180dbe59291": {
     "id": "d76e3916-dc3d-44e7-a8b9-a180dbe59291",
     "prev": "9ab8d8b7-e3ea-4b97-b426-8f0e52411705",
     "regions": {
      "cc0819c7-b098-4294-869d-a2f7815da823": {
       "attrs": {
        "height": 0.8,
        "width": 0.8,
        "x": 0.1,
        "y": 0.1
       },
       "content": {
        "cell": "7da74d40-2b01-4253-8d0a-677f1173ac7b",
        "part": "whole"
       },
       "id": "cc0819c7-b098-4294-869d-a2f7815da823"
      }
     }
    },
    "d7890c2f-dac3-4b25-8b22-c592b6b8bc86": {
     "id": "d7890c2f-dac3-4b25-8b22-c592b6b8bc86",
     "prev": "d08902a0-b0a6-48be-b31a-6e0dad800370",
     "regions": {
      "d921be7e-e376-46e6-a749-11451ec04bf5": {
       "attrs": {
        "height": 0.8,
        "width": 0.8,
        "x": 0.1,
        "y": 0.1
       },
       "content": {
        "cell": "3b761db8-b30d-4fa2-860e-64720047c92f",
        "part": "whole"
       },
       "id": "d921be7e-e376-46e6-a749-11451ec04bf5"
      }
     }
    },
    "d7e87a90-5116-4469-a54d-7c2885c50682": {
     "id": "d7e87a90-5116-4469-a54d-7c2885c50682",
     "prev": "1f8f99d2-0712-43f4-b6e6-3631b43d11c2",
     "regions": {
      "14a890a4-a68a-4d95-9c59-309e19680779": {
       "attrs": {
        "height": 0.8,
        "width": 0.8,
        "x": 0.1,
        "y": 0.1
       },
       "content": {
        "cell": "8b02b6c0-e371-4537-be60-4d728b1e0aab",
        "part": "whole"
       },
       "id": "14a890a4-a68a-4d95-9c59-309e19680779"
      }
     }
    },
    "d7fadad9-08bc-4eea-b5db-ad95bef0dcb1": {
     "id": "d7fadad9-08bc-4eea-b5db-ad95bef0dcb1",
     "prev": "a39b8023-227f-402c-b1c8-4d56da56cd34",
     "regions": {
      "68e9cec5-0d8e-4cd1-9aff-bedf70d043e6": {
       "attrs": {
        "height": 0.8,
        "width": 0.8,
        "x": 0.1,
        "y": 0.1
       },
       "content": {
        "cell": "50fb3c7e-12e9-4c84-9392-1754001ab2f1",
        "part": "whole"
       },
       "id": "68e9cec5-0d8e-4cd1-9aff-bedf70d043e6"
      }
     }
    },
    "dcd6c197-c44f-4283-bad5-ac37a468ad09": {
     "id": "dcd6c197-c44f-4283-bad5-ac37a468ad09",
     "prev": "621fbc35-9b48-4801-9372-c4f7464ae23d",
     "regions": {
      "ac042574-5116-4392-9723-26ab25b0786b": {
       "attrs": {
        "height": 0.8,
        "width": 0.8,
        "x": 0.1,
        "y": 0.1
       },
       "content": {
        "cell": "05e0ceb4-3349-47dc-a070-2b4207425d0e",
        "part": "whole"
       },
       "id": "ac042574-5116-4392-9723-26ab25b0786b"
      }
     }
    },
    "e095a1f7-5bff-4fb0-9564-2b4eb6cbff1c": {
     "id": "e095a1f7-5bff-4fb0-9564-2b4eb6cbff1c",
     "prev": "3f7f74f4-0dbb-4d60-baf4-9966d6afc771",
     "regions": {
      "550b0ae5-dbdd-464e-8582-fb2a9a9e3301": {
       "attrs": {
        "height": 0.8,
        "width": 0.8,
        "x": 0.1,
        "y": 0.1
       },
       "content": {
        "cell": "0e8e23dc-b6f2-4e86-834e-507321d28a84",
        "part": "whole"
       },
       "id": "550b0ae5-dbdd-464e-8582-fb2a9a9e3301"
      }
     }
    },
    "e333f16e-fc6e-4c7a-90a0-98d4e5e2601a": {
     "id": "e333f16e-fc6e-4c7a-90a0-98d4e5e2601a",
     "layout": "grid",
     "prev": null,
     "regions": {
      "43c11cd4-0a3e-4ad2-ba32-246e5c9d0a49": {
       "attrs": {
        "height": 1,
        "pad": 0.01,
        "treemap:weight": 1,
        "width": 1,
        "x": 0,
        "y": 0
       },
       "content": {
        "cell": "47ec3bed-a8ed-4da1-bce7-d1c661f8a2aa",
        "part": "whole"
       },
       "id": "43c11cd4-0a3e-4ad2-ba32-246e5c9d0a49"
      }
     }
    },
    "e359f4d9-9f7b-4071-901a-5890657e80fc": {
     "id": "e359f4d9-9f7b-4071-901a-5890657e80fc",
     "prev": "7d6dec6f-2e99-4542-9d6f-7370dc7f3cf0",
     "regions": {
      "3e1899f2-162b-4256-8411-9107d4904ca1": {
       "attrs": {
        "height": 0.8,
        "width": 0.8,
        "x": 0.1,
        "y": 0.1
       },
       "content": {
        "cell": "9dc6556f-4136-4e84-9db5-8ae47ec7fe16",
        "part": "whole"
       },
       "id": "3e1899f2-162b-4256-8411-9107d4904ca1"
      }
     }
    },
    "e415948e-f681-4f46-8bc1-a5e1ca1302d3": {
     "id": "e415948e-f681-4f46-8bc1-a5e1ca1302d3",
     "prev": "b70a1a36-f156-48aa-b574-5df1a330d9ac",
     "regions": {
      "89e1ac28-83f6-4dc8-be43-d7708088c437": {
       "attrs": {
        "height": 0.8,
        "width": 0.8,
        "x": 0.1,
        "y": 0.1
       },
       "content": {
        "cell": "65ba2fc5-9828-4f8b-ba63-4119a5902e2b",
        "part": "whole"
       },
       "id": "89e1ac28-83f6-4dc8-be43-d7708088c437"
      }
     }
    },
    "e5d4d613-818c-4231-b39d-2b4fce2d4da1": {
     "id": "e5d4d613-818c-4231-b39d-2b4fce2d4da1",
     "prev": "4dbaa734-a98e-4b5b-94e2-a74e45f05675",
     "regions": {
      "e9c4eec5-803e-4914-93f2-86ab0d4a513b": {
       "attrs": {
        "height": 0.8,
        "width": 0.8,
        "x": 0.1,
        "y": 0.1
       },
       "content": {
        "cell": "c08cdecc-0ba0-4a7c-8b86-bb25539078a6",
        "part": "whole"
       },
       "id": "e9c4eec5-803e-4914-93f2-86ab0d4a513b"
      }
     }
    },
    "e90df299-9a27-4b13-86cb-7ddfeaa873b6": {
     "id": "e90df299-9a27-4b13-86cb-7ddfeaa873b6",
     "prev": "3ed49ffc-e7a7-465a-b16c-5ae07379995f",
     "regions": {
      "62ac0057-1e88-480f-be49-d42a66479ce2": {
       "attrs": {
        "height": 0.8,
        "width": 0.8,
        "x": 0.1,
        "y": 0.1
       },
       "content": {
        "cell": "67d69f5b-9cf1-43e7-9c8e-aae00e26f3bc",
        "part": "whole"
       },
       "id": "62ac0057-1e88-480f-be49-d42a66479ce2"
      }
     }
    },
    "f0625468-ea6e-4051-8e94-840c5c6941da": {
     "id": "f0625468-ea6e-4051-8e94-840c5c6941da",
     "prev": "90e789e4-ff2b-493c-9e1f-14488ef7b3cf",
     "regions": {
      "10e92f50-6ae7-4c98-9eaf-e69d647d5051": {
       "attrs": {
        "height": 0.8,
        "width": 0.8,
        "x": 0.1,
        "y": 0.1
       },
       "content": {
        "cell": "1da2b41e-7dd2-4fff-85cc-c3967c9aed43",
        "part": "whole"
       },
       "id": "10e92f50-6ae7-4c98-9eaf-e69d647d5051"
      }
     }
    },
    "f0aef127-33bd-413c-bba1-007dd19e378a": {
     "id": "f0aef127-33bd-413c-bba1-007dd19e378a",
     "prev": "907e06d7-b8b7-485a-b88f-f273a9355365",
     "regions": {
      "5803b3c7-40b3-428a-9ee4-4f85e65e15ef": {
       "attrs": {
        "height": 0.8,
        "width": 0.8,
        "x": 0.1,
        "y": 0.1
       },
       "content": {
        "cell": "f7383089-a868-4739-aabc-55ec9a6ae922",
        "part": "whole"
       },
       "id": "5803b3c7-40b3-428a-9ee4-4f85e65e15ef"
      }
     }
    },
    "f0b3f628-b80c-404d-82fc-388e791727dc": {
     "id": "f0b3f628-b80c-404d-82fc-388e791727dc",
     "prev": "165e5d31-701d-41ee-9029-77c69de67dd8",
     "regions": {
      "9bac0ba5-eb79-4478-b7f2-588f1de1a8a8": {
       "attrs": {
        "height": 0.8,
        "width": 0.8,
        "x": 0.1,
        "y": 0.1
       },
       "content": {
        "cell": "bbfca8a5-a9ad-4bed-9b6a-be6b34fe9f6a",
        "part": "whole"
       },
       "id": "9bac0ba5-eb79-4478-b7f2-588f1de1a8a8"
      }
     }
    },
    "f17b792b-007d-4db1-80bb-13d622436909": {
     "id": "f17b792b-007d-4db1-80bb-13d622436909",
     "prev": "4d4585d7-f9e6-42eb-b3c5-8cb800f6b6c1",
     "regions": {
      "6e58c251-1912-4e24-9528-ac9af7a99ba5": {
       "attrs": {
        "height": 0.8,
        "width": 0.8,
        "x": 0.1,
        "y": 0.1
       },
       "content": {
        "cell": "d5d8defb-df4a-4975-8891-10ae7211d4cf",
        "part": "whole"
       },
       "id": "6e58c251-1912-4e24-9528-ac9af7a99ba5"
      }
     }
    },
    "f314770b-1c33-48be-8c7d-d9232296116a": {
     "id": "f314770b-1c33-48be-8c7d-d9232296116a",
     "prev": "9ee0100e-9e71-4204-82b2-8ce2a74c59de",
     "regions": {
      "c69c2099-e678-4d42-8344-49e3c6ae842f": {
       "attrs": {
        "height": 0.8,
        "width": 0.8,
        "x": 0.1,
        "y": 0.1
       },
       "content": {
        "cell": "00bd1d32-d028-4b89-8ac9-2866523e1208",
        "part": "whole"
       },
       "id": "c69c2099-e678-4d42-8344-49e3c6ae842f"
      }
     }
    },
    "f35d61a3-a461-4a5e-9587-20d7c216eaf1": {
     "id": "f35d61a3-a461-4a5e-9587-20d7c216eaf1",
     "prev": "a8903df8-64ba-48b3-96c0-63f489e721b5",
     "regions": {
      "6c8c3789-908e-4580-bfbd-e8fa9ae406ea": {
       "attrs": {
        "height": 0.8,
        "width": 0.8,
        "x": 0.1,
        "y": 0.1
       },
       "content": {
        "cell": "23b83a35-06a4-428d-9cab-0f830cd534e5",
        "part": "whole"
       },
       "id": "6c8c3789-908e-4580-bfbd-e8fa9ae406ea"
      }
     }
    },
    "f376710b-7834-4470-89c2-de86126539f5": {
     "id": "f376710b-7834-4470-89c2-de86126539f5",
     "prev": "d7890c2f-dac3-4b25-8b22-c592b6b8bc86",
     "regions": {
      "d2c30826-b460-4282-a0ad-ca1474c0fb6d": {
       "attrs": {
        "height": 0.8,
        "width": 0.8,
        "x": 0.1,
        "y": 0.1
       },
       "content": {
        "cell": "202c79a5-9b8a-4b77-a19b-0700ee4cdf6a",
        "part": "whole"
       },
       "id": "d2c30826-b460-4282-a0ad-ca1474c0fb6d"
      }
     }
    },
    "f45ba43e-29d4-458c-81e7-666947a481ed": {
     "id": "f45ba43e-29d4-458c-81e7-666947a481ed",
     "prev": "9ed0488f-2a40-42e8-9f70-4888ee789ea9",
     "regions": {
      "982c8341-cc9b-4579-830b-9ebac5b3e3fe": {
       "attrs": {
        "height": 0.8,
        "width": 0.8,
        "x": 0.1,
        "y": 0.1
       },
       "content": {
        "cell": "999a48e8-0101-4db5-9461-b1c8bff016f9",
        "part": "whole"
       },
       "id": "982c8341-cc9b-4579-830b-9ebac5b3e3fe"
      }
     }
    },
    "f86ecf89-10d5-4bce-ba97-aaa95932a4ee": {
     "id": "f86ecf89-10d5-4bce-ba97-aaa95932a4ee",
     "prev": "b9afa5a1-aae2-4433-bb3a-9863bd521c30",
     "regions": {
      "3ff5bf5a-dcc1-454b-b796-2f5709555850": {
       "attrs": {
        "height": 0.8,
        "width": 0.8,
        "x": 0.1,
        "y": 0.1
       },
       "content": {
        "cell": "0fa33260-c82e-498e-9ed1-4662baa3834b",
        "part": "whole"
       },
       "id": "3ff5bf5a-dcc1-454b-b796-2f5709555850"
      }
     }
    },
    "fcb37010-46b9-420e-8af2-9601cdeaf82e": {
     "id": "fcb37010-46b9-420e-8af2-9601cdeaf82e",
     "prev": "e415948e-f681-4f46-8bc1-a5e1ca1302d3",
     "regions": {
      "f1645f16-8890-4100-8b0a-318729e72a3e": {
       "attrs": {
        "height": 0.8,
        "width": 0.8,
        "x": 0.1,
        "y": 0.1
       },
       "content": {
        "cell": "47ec3bed-a8ed-4da1-bce7-d1c661f8a2aa",
        "part": "whole"
       },
       "id": "f1645f16-8890-4100-8b0a-318729e72a3e"
      }
     }
    },
    "fe82e8df-394a-4332-bcf5-71d7d11f8a57": {
     "id": "fe82e8df-394a-4332-bcf5-71d7d11f8a57",
     "prev": "f17b792b-007d-4db1-80bb-13d622436909",
     "regions": {
      "8182ec3b-fc31-4911-b7f0-bd65eff696b1": {
       "attrs": {
        "height": 0.8,
        "width": 0.8,
        "x": 0.1,
        "y": 0.1
       },
       "content": {
        "cell": "28d7c090-f329-4035-90dd-d7c02159f812",
        "part": "whole"
       },
       "id": "8182ec3b-fc31-4911-b7f0-bd65eff696b1"
      }
     }
    }
   },
   "themes": {}
  }
 },
 "nbformat": 4,
 "nbformat_minor": 0
}
